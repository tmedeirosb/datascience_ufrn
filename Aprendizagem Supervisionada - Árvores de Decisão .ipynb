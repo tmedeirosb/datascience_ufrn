{
 "cells": [
  {
   "cell_type": "markdown",
   "metadata": {},
   "source": [
    "# Tópicos Especiais em Processamento da Informação: Ciência de Dados\n",
    "\n",
    "Prof. Luiz Affonso Guedes Engenharia de Computação - UFRN 2017-2"
   ]
  },
  {
   "cell_type": "markdown",
   "metadata": {},
   "source": [
    "## Conteúdo: \n",
    "- Exercícios de classificação de dados com Classificador Decition Tree.\n",
    "- Exercícios de Random Florest.\n"
   ]
  },
  {
   "cell_type": "markdown",
   "metadata": {},
   "source": [
    "### Site do scikit-learn\n",
    "http://scikit-learn.org/stable\n"
   ]
  },
  {
   "cell_type": "markdown",
   "metadata": {},
   "source": [
    "#### Importação dos pacotes padrões:"
   ]
  },
  {
   "cell_type": "code",
   "execution_count": 178,
   "metadata": {
    "collapsed": true
   },
   "outputs": [],
   "source": [
    "%matplotlib inline\n",
    "import numpy as np\n",
    "import matplotlib.pyplot as plt\n",
    "import seaborn as sns; sns.set()\n",
    "\n"
   ]
  },
  {
   "cell_type": "markdown",
   "metadata": {},
   "source": [
    "## Árvores de Decisão e Random Florests\n",
    "\n",
    "Material retirado do GitHub do Jake Vanderplas:\n",
    "\n",
    "https://github.com/jakevdp/PythonDataScienceHandbook/blob/master/notebooks/05.08-Random-Forests.ipynb\n",
    "\n",
    "As árvores de decisão são uma técnica de aprendizado de máquinas poderosa e popular. O conceito básico é muito semelhante às árvores que você pode ter visto comumente usado para auxiliar na tomada de decisões.\n",
    "\n",
    "O algoritmo da árvore de decisão é um algoritmo de aprendizagem supervisionado: primeiro construímos a árvore com dados históricos, e depois usamos isso para prever um resultado.\n",
    "\n",
    "Uma das principais vantagens das árvores de decisão é que elas podem escolher interações não-lineares entre variáveis nos dados, o que a regressão linear não pode."
   ]
  },
  {
   "cell_type": "markdown",
   "metadata": {},
   "source": [
    "* Material retirado do site do scikit-learn:\n",
    "http://scikit-learn.org/stable/modules/tree.html\n",
    "\n",
    "DecisionTreeClassifier é uma classe capaz de realizar classificação multi-class sobre um dataset.\n",
    "\n",
    "Como os outro sclassificadores no scikit-learn, DecisionTreeClassifier tem como entrada 02 arrays: um array X, esparso ou denso, de tamanho [n_samples, n_features] retendo as amostras de treinamento, e um array Y de valores inteiros, de tamanho [n_samples], retendo os labels das classes para as amostras de treinamento."
   ]
  },
  {
   "cell_type": "markdown",
   "metadata": {},
   "source": [
    "## Exemplo1: Dataset Iris"
   ]
  },
  {
   "cell_type": "markdown",
   "metadata": {},
   "source": [
    "Criação de uma árvore de decisão"
   ]
  },
  {
   "cell_type": "code",
   "execution_count": 181,
   "metadata": {
    "collapsed": true
   },
   "outputs": [],
   "source": [
    "from sklearn import tree\n",
    "X = [[0, 0], [1, 1]]\n",
    "Y = [0, 1]\n",
    "clf = tree.DecisionTreeClassifier()\n",
    "clf = clf.fit(X, Y)"
   ]
  },
  {
   "cell_type": "markdown",
   "metadata": {},
   "source": [
    "Fazendo predição sobre o modelo treinado:"
   ]
  },
  {
   "cell_type": "code",
   "execution_count": 182,
   "metadata": {},
   "outputs": [
    {
     "data": {
      "text/plain": [
       "array([1])"
      ]
     },
     "execution_count": 182,
     "metadata": {},
     "output_type": "execute_result"
    }
   ],
   "source": [
    "clf.predict([[2., 2.]])"
   ]
  },
  {
   "cell_type": "markdown",
   "metadata": {},
   "source": [
    "DecisionTreeClassifier é capaz de fazer classificação binária (quando os labels são [-1, 1]) e classificação multiclasse (quando os labels são [0, …, K-1])."
   ]
  },
  {
   "cell_type": "markdown",
   "metadata": {},
   "source": [
    "Usando o dataset Iris para exemplificar o uso deste classificador como multi-classes."
   ]
  },
  {
   "cell_type": "code",
   "execution_count": 183,
   "metadata": {
    "collapsed": true
   },
   "outputs": [],
   "source": [
    "from sklearn.datasets import load_iris\n",
    "from sklearn import tree\n",
    "\n",
    "iris = load_iris()\n",
    "clf = tree.DecisionTreeClassifier()\n",
    "clf = clf.fit(iris.data, iris.target)"
   ]
  },
  {
   "cell_type": "code",
   "execution_count": 184,
   "metadata": {},
   "outputs": [
    {
     "data": {
      "text/plain": [
       "array([0, 0, 0, 0, 0, 0, 0, 0, 0, 0, 0, 0, 0, 0, 0, 0, 0, 0, 0, 0, 0, 0, 0,\n",
       "       0, 0, 0, 0, 0, 0, 0, 0, 0, 0, 0, 0, 0, 0, 0, 0, 0, 0, 0, 0, 0, 0, 0,\n",
       "       0, 0, 0, 0, 1, 1, 1, 1, 1, 1, 1, 1, 1, 1, 1, 1, 1, 1, 1, 1, 1, 1, 1,\n",
       "       1, 1, 1, 1, 1, 1, 1, 1, 1, 1, 1, 1, 1, 1, 1, 1, 1, 1, 1, 1, 1, 1, 1,\n",
       "       1, 1, 1, 1, 1, 1, 1, 1, 2, 2, 2, 2, 2, 2, 2, 2, 2, 2, 2, 2, 2, 2, 2,\n",
       "       2, 2, 2, 2, 2, 2, 2, 2, 2, 2, 2, 2, 2, 2, 2, 2, 2, 2, 2, 2, 2, 2, 2,\n",
       "       2, 2, 2, 2, 2, 2, 2, 2, 2, 2, 2, 2])"
      ]
     },
     "execution_count": 184,
     "metadata": {},
     "output_type": "execute_result"
    }
   ],
   "source": [
    "iris.target"
   ]
  },
  {
   "cell_type": "code",
   "execution_count": 185,
   "metadata": {},
   "outputs": [
    {
     "data": {
      "text/plain": [
       "array([0])"
      ]
     },
     "execution_count": 185,
     "metadata": {},
     "output_type": "execute_result"
    }
   ],
   "source": [
    "# Exemplo de predição\n",
    "clf.predict(iris.data[:1, :])"
   ]
  },
  {
   "cell_type": "markdown",
   "metadata": {},
   "source": [
    "#### Programa para visualizar a classificaçãomdo dataset Iris"
   ]
  },
  {
   "cell_type": "code",
   "execution_count": 186,
   "metadata": {},
   "outputs": [
    {
     "name": "stdout",
     "output_type": "stream",
     "text": [
      "Automatically created module for IPython interactive environment\n"
     ]
    },
    {
     "data": {
      "image/png": "[encoded data removed]",
      "text/plain": [
       "<matplotlib.figure.Figure at 0x1a243e55f8>"
      ]
     },
     "metadata": {},
     "output_type": "display_data"
    }
   ],
   "source": [
    "print(__doc__)\n",
    "\n",
    "import numpy as np\n",
    "import matplotlib.pyplot as plt\n",
    "\n",
    "from sklearn.datasets import load_iris\n",
    "from sklearn.tree import DecisionTreeClassifier\n",
    "\n",
    "# Parameters\n",
    "n_classes = 3\n",
    "plot_colors = \"ryb\"\n",
    "plot_step = 0.02\n",
    "\n",
    "# Load data\n",
    "iris = load_iris()\n",
    "\n",
    "for pairidx, pair in enumerate([[0, 1], [0, 2], [0, 3],\n",
    "                                [1, 2], [1, 3], [2, 3]]):\n",
    "    # We only take the two corresponding features\n",
    "    X = iris.data[:, pair]\n",
    "    y = iris.target\n",
    "\n",
    "    # Train\n",
    "    clf = DecisionTreeClassifier().fit(X, y)\n",
    "\n",
    "    # Plot the decision boundary\n",
    "    plt.subplot(2, 3, pairidx + 1)\n",
    "\n",
    "    x_min, x_max = X[:, 0].min() - 1, X[:, 0].max() + 1\n",
    "    y_min, y_max = X[:, 1].min() - 1, X[:, 1].max() + 1\n",
    "    xx, yy = np.meshgrid(np.arange(x_min, x_max, plot_step),\n",
    "                         np.arange(y_min, y_max, plot_step))\n",
    "    plt.tight_layout(h_pad=0.5, w_pad=0.5, pad=2.5)\n",
    "\n",
    "    Z = clf.predict(np.c_[xx.ravel(), yy.ravel()])\n",
    "    Z = Z.reshape(xx.shape)\n",
    "    cs = plt.contourf(xx, yy, Z, cmap=plt.cm.RdYlBu)\n",
    "\n",
    "    plt.xlabel(iris.feature_names[pair[0]])\n",
    "    plt.ylabel(iris.feature_names[pair[1]])\n",
    "\n",
    "    # Plot the training points\n",
    "    for i, color in zip(range(n_classes), plot_colors):\n",
    "        idx = np.where(y == i)\n",
    "        plt.scatter(X[idx, 0], X[idx, 1], c=color, label=iris.target_names[i],\n",
    "                    cmap=plt.cm.RdYlBu, edgecolor='black', s=15)\n",
    "\n",
    "plt.suptitle(\"Decision surface of a decision tree using paired features\")\n",
    "plt.legend(loc='lower right', borderpad=0, handletextpad=0)\n",
    "plt.axis(\"tight\")\n",
    "plt.show()"
   ]
  },
  {
   "cell_type": "markdown",
   "metadata": {},
   "source": [
    "#### Instalação do pacote Graphviz, para apresentação da árvore de decisão"
   ]
  },
  {
   "cell_type": "code",
   "execution_count": null,
   "metadata": {},
   "outputs": [],
   "source": [
    "# !conda install python-graphviz"
   ]
  },
  {
   "cell_type": "code",
   "execution_count": 187,
   "metadata": {},
   "outputs": [
    {
     "data": {
      "text/plain": [
       "'iris.pdf'"
      ]
     },
     "execution_count": 187,
     "metadata": {},
     "output_type": "execute_result"
    }
   ],
   "source": [
    "import graphviz \n",
    "\n",
    "dot_data = tree.export_graphviz(clf, out_file=None) \n",
    "graph = graphviz.Source(dot_data) \n",
    "graph.render(\"iris\") "
   ]
  },
  {
   "cell_type": "code",
   "execution_count": 188,
   "metadata": {},
   "outputs": [
    {
     "data": {
      "image/svg+xml": [
       "<?xml version=\"1.0\" encoding=\"UTF-8\" standalone=\"no\"?>\n",
       "<!DOCTYPE svg PUBLIC \"-//W3C//DTD SVG 1.1//EN\"\n",
       " \"http://www.w3.org/Graphics/SVG/1.1/DTD/svg11.dtd\">\n",
       "<!-- Generated by graphviz version 2.38.0 (20140413.2041)\n",
       " -->\n",
       "<!-- Title: Tree Pages: 1 -->\n",
       "<svg width=\"628pt\" height=\"558pt\"\n",
       " viewBox=\"0.00 0.00 627.54 558.00\" xmlns=\"http://www.w3.org/2000/svg\" xmlns:xlink=\"http://www.w3.org/1999/xlink\">\n",
       "<g id=\"graph0\" class=\"graph\" transform=\"scale(1 1) rotate(0) translate(4 554)\">\n",
       "<title>Tree</title>\n",
       "<polygon fill=\"white\" stroke=\"none\" points=\"-4,4 -4,-554 623.537,-554 623.537,4 -4,4\"/>\n",
       "<!-- 0 -->\n",
       "<g id=\"node1\" class=\"node\"><title>0</title>\n",
       "<polygon fill=\"none\" stroke=\"black\" points=\"369.307,-550 243.231,-550 243.231,-486 369.307,-486 369.307,-550\"/>\n",
       "<text text-anchor=\"middle\" x=\"306.269\" y=\"-534.8\" font-family=\"Times,serif\" font-size=\"14.00\">X[1] &lt;= 0.8</text>\n",
       "<text text-anchor=\"middle\" x=\"306.269\" y=\"-520.8\" font-family=\"Times,serif\" font-size=\"14.00\">gini = 0.667</text>\n",
       "<text text-anchor=\"middle\" x=\"306.269\" y=\"-506.8\" font-family=\"Times,serif\" font-size=\"14.00\">samples = 150</text>\n",
       "<text text-anchor=\"middle\" x=\"306.269\" y=\"-492.8\" font-family=\"Times,serif\" font-size=\"14.00\">value = [50, 50, 50]</text>\n",
       "</g>\n",
       "<!-- 1 -->\n",
       "<g id=\"node2\" class=\"node\"><title>1</title>\n",
       "<polygon fill=\"none\" stroke=\"black\" points=\"295.307,-443 183.23,-443 183.23,-393 295.307,-393 295.307,-443\"/>\n",
       "<text text-anchor=\"middle\" x=\"239.269\" y=\"-427.8\" font-family=\"Times,serif\" font-size=\"14.00\">gini = 0.0</text>\n",
       "<text text-anchor=\"middle\" x=\"239.269\" y=\"-413.8\" font-family=\"Times,serif\" font-size=\"14.00\">samples = 50</text>\n",
       "<text text-anchor=\"middle\" x=\"239.269\" y=\"-399.8\" font-family=\"Times,serif\" font-size=\"14.00\">value = [50, 0, 0]</text>\n",
       "</g>\n",
       "<!-- 0&#45;&gt;1 -->\n",
       "<g id=\"edge1\" class=\"edge\"><title>0&#45;&gt;1</title>\n",
       "<path fill=\"none\" stroke=\"black\" d=\"M285.069,-485.992C277.628,-475.107 269.245,-462.847 261.706,-451.818\"/>\n",
       "<polygon fill=\"black\" stroke=\"black\" points=\"264.407,-449.567 255.873,-443.288 258.628,-453.518 264.407,-449.567\"/>\n",
       "<text text-anchor=\"middle\" x=\"251.257\" y=\"-463.658\" font-family=\"Times,serif\" font-size=\"14.00\">True</text>\n",
       "</g>\n",
       "<!-- 2 -->\n",
       "<g id=\"node3\" class=\"node\"><title>2</title>\n",
       "<polygon fill=\"none\" stroke=\"black\" points=\"432.807,-450 313.731,-450 313.731,-386 432.807,-386 432.807,-450\"/>\n",
       "<text text-anchor=\"middle\" x=\"373.269\" y=\"-434.8\" font-family=\"Times,serif\" font-size=\"14.00\">X[1] &lt;= 1.75</text>\n",
       "<text text-anchor=\"middle\" x=\"373.269\" y=\"-420.8\" font-family=\"Times,serif\" font-size=\"14.00\">gini = 0.5</text>\n",
       "<text text-anchor=\"middle\" x=\"373.269\" y=\"-406.8\" font-family=\"Times,serif\" font-size=\"14.00\">samples = 100</text>\n",
       "<text text-anchor=\"middle\" x=\"373.269\" y=\"-392.8\" font-family=\"Times,serif\" font-size=\"14.00\">value = [0, 50, 50]</text>\n",
       "</g>\n",
       "<!-- 0&#45;&gt;2 -->\n",
       "<g id=\"edge2\" class=\"edge\"><title>0&#45;&gt;2</title>\n",
       "<path fill=\"none\" stroke=\"black\" d=\"M327.468,-485.992C333.456,-477.234 340.052,-467.585 346.329,-458.404\"/>\n",
       "<polygon fill=\"black\" stroke=\"black\" points=\"349.223,-460.373 351.977,-450.142 343.444,-456.422 349.223,-460.373\"/>\n",
       "<text text-anchor=\"middle\" x=\"356.593\" y=\"-470.513\" font-family=\"Times,serif\" font-size=\"14.00\">False</text>\n",
       "</g>\n",
       "<!-- 3 -->\n",
       "<g id=\"node4\" class=\"node\"><title>3</title>\n",
       "<polygon fill=\"none\" stroke=\"black\" points=\"363.307,-350 251.23,-350 251.23,-286 363.307,-286 363.307,-350\"/>\n",
       "<text text-anchor=\"middle\" x=\"307.269\" y=\"-334.8\" font-family=\"Times,serif\" font-size=\"14.00\">X[0] &lt;= 4.95</text>\n",
       "<text text-anchor=\"middle\" x=\"307.269\" y=\"-320.8\" font-family=\"Times,serif\" font-size=\"14.00\">gini = 0.168</text>\n",
       "<text text-anchor=\"middle\" x=\"307.269\" y=\"-306.8\" font-family=\"Times,serif\" font-size=\"14.00\">samples = 54</text>\n",
       "<text text-anchor=\"middle\" x=\"307.269\" y=\"-292.8\" font-family=\"Times,serif\" font-size=\"14.00\">value = [0, 49, 5]</text>\n",
       "</g>\n",
       "<!-- 2&#45;&gt;3 -->\n",
       "<g id=\"edge3\" class=\"edge\"><title>2&#45;&gt;3</title>\n",
       "<path fill=\"none\" stroke=\"black\" d=\"M352.386,-385.992C346.547,-377.323 340.122,-367.782 333.995,-358.685\"/>\n",
       "<polygon fill=\"black\" stroke=\"black\" points=\"336.731,-356.482 328.242,-350.142 330.925,-360.392 336.731,-356.482\"/>\n",
       "</g>\n",
       "<!-- 12 -->\n",
       "<g id=\"node13\" class=\"node\"><title>12</title>\n",
       "<polygon fill=\"none\" stroke=\"black\" points=\"494.307,-350 382.23,-350 382.23,-286 494.307,-286 494.307,-350\"/>\n",
       "<text text-anchor=\"middle\" x=\"438.269\" y=\"-334.8\" font-family=\"Times,serif\" font-size=\"14.00\">X[0] &lt;= 4.85</text>\n",
       "<text text-anchor=\"middle\" x=\"438.269\" y=\"-320.8\" font-family=\"Times,serif\" font-size=\"14.00\">gini = 0.043</text>\n",
       "<text text-anchor=\"middle\" x=\"438.269\" y=\"-306.8\" font-family=\"Times,serif\" font-size=\"14.00\">samples = 46</text>\n",
       "<text text-anchor=\"middle\" x=\"438.269\" y=\"-292.8\" font-family=\"Times,serif\" font-size=\"14.00\">value = [0, 1, 45]</text>\n",
       "</g>\n",
       "<!-- 2&#45;&gt;12 -->\n",
       "<g id=\"edge12\" class=\"edge\"><title>2&#45;&gt;12</title>\n",
       "<path fill=\"none\" stroke=\"black\" d=\"M393.835,-385.992C399.585,-377.323 405.913,-367.782 411.947,-358.685\"/>\n",
       "<polygon fill=\"black\" stroke=\"black\" points=\"415.002,-360.411 417.613,-350.142 409.169,-356.541 415.002,-360.411\"/>\n",
       "</g>\n",
       "<!-- 4 -->\n",
       "<g id=\"node5\" class=\"node\"><title>4</title>\n",
       "<polygon fill=\"none\" stroke=\"black\" points=\"238.307,-250 126.23,-250 126.23,-186 238.307,-186 238.307,-250\"/>\n",
       "<text text-anchor=\"middle\" x=\"182.269\" y=\"-234.8\" font-family=\"Times,serif\" font-size=\"14.00\">X[1] &lt;= 1.65</text>\n",
       "<text text-anchor=\"middle\" x=\"182.269\" y=\"-220.8\" font-family=\"Times,serif\" font-size=\"14.00\">gini = 0.041</text>\n",
       "<text text-anchor=\"middle\" x=\"182.269\" y=\"-206.8\" font-family=\"Times,serif\" font-size=\"14.00\">samples = 48</text>\n",
       "<text text-anchor=\"middle\" x=\"182.269\" y=\"-192.8\" font-family=\"Times,serif\" font-size=\"14.00\">value = [0, 47, 1]</text>\n",
       "</g>\n",
       "<!-- 3&#45;&gt;4 -->\n",
       "<g id=\"edge4\" class=\"edge\"><title>3&#45;&gt;4</title>\n",
       "<path fill=\"none\" stroke=\"black\" d=\"M267.718,-285.992C255.748,-276.608 242.475,-266.202 230.029,-256.444\"/>\n",
       "<polygon fill=\"black\" stroke=\"black\" points=\"232.02,-253.558 221.991,-250.142 227.701,-259.067 232.02,-253.558\"/>\n",
       "</g>\n",
       "<!-- 7 -->\n",
       "<g id=\"node8\" class=\"node\"><title>7</title>\n",
       "<polygon fill=\"none\" stroke=\"black\" points=\"361.807,-250 256.73,-250 256.73,-186 361.807,-186 361.807,-250\"/>\n",
       "<text text-anchor=\"middle\" x=\"309.269\" y=\"-234.8\" font-family=\"Times,serif\" font-size=\"14.00\">X[1] &lt;= 1.55</text>\n",
       "<text text-anchor=\"middle\" x=\"309.269\" y=\"-220.8\" font-family=\"Times,serif\" font-size=\"14.00\">gini = 0.444</text>\n",
       "<text text-anchor=\"middle\" x=\"309.269\" y=\"-206.8\" font-family=\"Times,serif\" font-size=\"14.00\">samples = 6</text>\n",
       "<text text-anchor=\"middle\" x=\"309.269\" y=\"-192.8\" font-family=\"Times,serif\" font-size=\"14.00\">value = [0, 2, 4]</text>\n",
       "</g>\n",
       "<!-- 3&#45;&gt;7 -->\n",
       "<g id=\"edge7\" class=\"edge\"><title>3&#45;&gt;7</title>\n",
       "<path fill=\"none\" stroke=\"black\" d=\"M307.901,-285.992C308.067,-277.859 308.249,-268.959 308.424,-260.378\"/>\n",
       "<polygon fill=\"black\" stroke=\"black\" points=\"311.928,-260.212 308.633,-250.142 304.93,-260.069 311.928,-260.212\"/>\n",
       "</g>\n",
       "<!-- 5 -->\n",
       "<g id=\"node6\" class=\"node\"><title>5</title>\n",
       "<polygon fill=\"none\" stroke=\"black\" points=\"112.307,-143 0.230497,-143 0.230497,-93 112.307,-93 112.307,-143\"/>\n",
       "<text text-anchor=\"middle\" x=\"56.2686\" y=\"-127.8\" font-family=\"Times,serif\" font-size=\"14.00\">gini = 0.0</text>\n",
       "<text text-anchor=\"middle\" x=\"56.2686\" y=\"-113.8\" font-family=\"Times,serif\" font-size=\"14.00\">samples = 47</text>\n",
       "<text text-anchor=\"middle\" x=\"56.2686\" y=\"-99.8\" font-family=\"Times,serif\" font-size=\"14.00\">value = [0, 47, 0]</text>\n",
       "</g>\n",
       "<!-- 4&#45;&gt;5 -->\n",
       "<g id=\"edge5\" class=\"edge\"><title>4&#45;&gt;5</title>\n",
       "<path fill=\"none\" stroke=\"black\" d=\"M142.401,-185.992C127.437,-174.353 110.45,-161.141 95.5393,-149.544\"/>\n",
       "<polygon fill=\"black\" stroke=\"black\" points=\"97.5379,-146.664 87.4955,-143.288 93.2403,-152.19 97.5379,-146.664\"/>\n",
       "</g>\n",
       "<!-- 6 -->\n",
       "<g id=\"node7\" class=\"node\"><title>6</title>\n",
       "<polygon fill=\"none\" stroke=\"black\" points=\"235.807,-143 130.73,-143 130.73,-93 235.807,-93 235.807,-143\"/>\n",
       "<text text-anchor=\"middle\" x=\"183.269\" y=\"-127.8\" font-family=\"Times,serif\" font-size=\"14.00\">gini = 0.0</text>\n",
       "<text text-anchor=\"middle\" x=\"183.269\" y=\"-113.8\" font-family=\"Times,serif\" font-size=\"14.00\">samples = 1</text>\n",
       "<text text-anchor=\"middle\" x=\"183.269\" y=\"-99.8\" font-family=\"Times,serif\" font-size=\"14.00\">value = [0, 0, 1]</text>\n",
       "</g>\n",
       "<!-- 4&#45;&gt;6 -->\n",
       "<g id=\"edge6\" class=\"edge\"><title>4&#45;&gt;6</title>\n",
       "<path fill=\"none\" stroke=\"black\" d=\"M182.585,-185.992C182.691,-175.646 182.809,-164.057 182.917,-153.465\"/>\n",
       "<polygon fill=\"black\" stroke=\"black\" points=\"186.418,-153.323 183.021,-143.288 179.419,-153.251 186.418,-153.323\"/>\n",
       "</g>\n",
       "<!-- 8 -->\n",
       "<g id=\"node9\" class=\"node\"><title>8</title>\n",
       "<polygon fill=\"none\" stroke=\"black\" points=\"360.807,-143 255.73,-143 255.73,-93 360.807,-93 360.807,-143\"/>\n",
       "<text text-anchor=\"middle\" x=\"308.269\" y=\"-127.8\" font-family=\"Times,serif\" font-size=\"14.00\">gini = 0.0</text>\n",
       "<text text-anchor=\"middle\" x=\"308.269\" y=\"-113.8\" font-family=\"Times,serif\" font-size=\"14.00\">samples = 3</text>\n",
       "<text text-anchor=\"middle\" x=\"308.269\" y=\"-99.8\" font-family=\"Times,serif\" font-size=\"14.00\">value = [0, 0, 3]</text>\n",
       "</g>\n",
       "<!-- 7&#45;&gt;8 -->\n",
       "<g id=\"edge8\" class=\"edge\"><title>7&#45;&gt;8</title>\n",
       "<path fill=\"none\" stroke=\"black\" d=\"M308.952,-185.992C308.847,-175.646 308.728,-164.057 308.62,-153.465\"/>\n",
       "<polygon fill=\"black\" stroke=\"black\" points=\"312.118,-153.251 308.516,-143.288 305.119,-153.323 312.118,-153.251\"/>\n",
       "</g>\n",
       "<!-- 9 -->\n",
       "<g id=\"node10\" class=\"node\"><title>9</title>\n",
       "<polygon fill=\"none\" stroke=\"black\" points=\"484.807,-150 379.73,-150 379.73,-86 484.807,-86 484.807,-150\"/>\n",
       "<text text-anchor=\"middle\" x=\"432.269\" y=\"-134.8\" font-family=\"Times,serif\" font-size=\"14.00\">X[0] &lt;= 5.45</text>\n",
       "<text text-anchor=\"middle\" x=\"432.269\" y=\"-120.8\" font-family=\"Times,serif\" font-size=\"14.00\">gini = 0.444</text>\n",
       "<text text-anchor=\"middle\" x=\"432.269\" y=\"-106.8\" font-family=\"Times,serif\" font-size=\"14.00\">samples = 3</text>\n",
       "<text text-anchor=\"middle\" x=\"432.269\" y=\"-92.8\" font-family=\"Times,serif\" font-size=\"14.00\">value = [0, 2, 1]</text>\n",
       "</g>\n",
       "<!-- 7&#45;&gt;9 -->\n",
       "<g id=\"edge9\" class=\"edge\"><title>7&#45;&gt;9</title>\n",
       "<path fill=\"none\" stroke=\"black\" d=\"M348.187,-185.992C359.964,-176.608 373.025,-166.202 385.273,-156.444\"/>\n",
       "<polygon fill=\"black\" stroke=\"black\" points=\"387.541,-159.111 393.182,-150.142 383.179,-153.637 387.541,-159.111\"/>\n",
       "</g>\n",
       "<!-- 10 -->\n",
       "<g id=\"node11\" class=\"node\"><title>10</title>\n",
       "<polygon fill=\"none\" stroke=\"black\" points=\"422.807,-50 317.73,-50 317.73,-0 422.807,-0 422.807,-50\"/>\n",
       "<text text-anchor=\"middle\" x=\"370.269\" y=\"-34.8\" font-family=\"Times,serif\" font-size=\"14.00\">gini = 0.0</text>\n",
       "<text text-anchor=\"middle\" x=\"370.269\" y=\"-20.8\" font-family=\"Times,serif\" font-size=\"14.00\">samples = 2</text>\n",
       "<text text-anchor=\"middle\" x=\"370.269\" y=\"-6.8\" font-family=\"Times,serif\" font-size=\"14.00\">value = [0, 2, 0]</text>\n",
       "</g>\n",
       "<!-- 9&#45;&gt;10 -->\n",
       "<g id=\"edge10\" class=\"edge\"><title>9&#45;&gt;10</title>\n",
       "<path fill=\"none\" stroke=\"black\" d=\"M411.105,-85.9375C405.044,-77.0413 398.423,-67.3236 392.311,-58.352\"/>\n",
       "<polygon fill=\"black\" stroke=\"black\" points=\"395.164,-56.3236 386.641,-50.0301 389.379,-60.265 395.164,-56.3236\"/>\n",
       "</g>\n",
       "<!-- 11 -->\n",
       "<g id=\"node12\" class=\"node\"><title>11</title>\n",
       "<polygon fill=\"none\" stroke=\"black\" points=\"546.807,-50 441.73,-50 441.73,-0 546.807,-0 546.807,-50\"/>\n",
       "<text text-anchor=\"middle\" x=\"494.269\" y=\"-34.8\" font-family=\"Times,serif\" font-size=\"14.00\">gini = 0.0</text>\n",
       "<text text-anchor=\"middle\" x=\"494.269\" y=\"-20.8\" font-family=\"Times,serif\" font-size=\"14.00\">samples = 1</text>\n",
       "<text text-anchor=\"middle\" x=\"494.269\" y=\"-6.8\" font-family=\"Times,serif\" font-size=\"14.00\">value = [0, 0, 1]</text>\n",
       "</g>\n",
       "<!-- 9&#45;&gt;11 -->\n",
       "<g id=\"edge11\" class=\"edge\"><title>9&#45;&gt;11</title>\n",
       "<path fill=\"none\" stroke=\"black\" d=\"M453.432,-85.9375C459.493,-77.0413 466.114,-67.3236 472.227,-58.352\"/>\n",
       "<polygon fill=\"black\" stroke=\"black\" points=\"475.158,-60.265 477.896,-50.0301 469.373,-56.3236 475.158,-60.265\"/>\n",
       "</g>\n",
       "<!-- 13 -->\n",
       "<g id=\"node14\" class=\"node\"><title>13</title>\n",
       "<polygon fill=\"none\" stroke=\"black\" points=\"488.807,-243 383.73,-243 383.73,-193 488.807,-193 488.807,-243\"/>\n",
       "<text text-anchor=\"middle\" x=\"436.269\" y=\"-227.8\" font-family=\"Times,serif\" font-size=\"14.00\">gini = 0.444</text>\n",
       "<text text-anchor=\"middle\" x=\"436.269\" y=\"-213.8\" font-family=\"Times,serif\" font-size=\"14.00\">samples = 3</text>\n",
       "<text text-anchor=\"middle\" x=\"436.269\" y=\"-199.8\" font-family=\"Times,serif\" font-size=\"14.00\">value = [0, 1, 2]</text>\n",
       "</g>\n",
       "<!-- 12&#45;&gt;13 -->\n",
       "<g id=\"edge13\" class=\"edge\"><title>12&#45;&gt;13</title>\n",
       "<path fill=\"none\" stroke=\"black\" d=\"M437.636,-285.992C437.425,-275.646 437.188,-264.057 436.972,-253.465\"/>\n",
       "<polygon fill=\"black\" stroke=\"black\" points=\"440.468,-253.214 436.764,-243.288 433.469,-253.357 440.468,-253.214\"/>\n",
       "</g>\n",
       "<!-- 14 -->\n",
       "<g id=\"node15\" class=\"node\"><title>14</title>\n",
       "<polygon fill=\"none\" stroke=\"black\" points=\"619.307,-243 507.23,-243 507.23,-193 619.307,-193 619.307,-243\"/>\n",
       "<text text-anchor=\"middle\" x=\"563.269\" y=\"-227.8\" font-family=\"Times,serif\" font-size=\"14.00\">gini = 0.0</text>\n",
       "<text text-anchor=\"middle\" x=\"563.269\" y=\"-213.8\" font-family=\"Times,serif\" font-size=\"14.00\">samples = 43</text>\n",
       "<text text-anchor=\"middle\" x=\"563.269\" y=\"-199.8\" font-family=\"Times,serif\" font-size=\"14.00\">value = [0, 0, 43]</text>\n",
       "</g>\n",
       "<!-- 12&#45;&gt;14 -->\n",
       "<g id=\"edge14\" class=\"edge\"><title>12&#45;&gt;14</title>\n",
       "<path fill=\"none\" stroke=\"black\" d=\"M477.819,-285.992C492.665,-274.353 509.518,-261.141 524.309,-249.544\"/>\n",
       "<polygon fill=\"black\" stroke=\"black\" points=\"526.579,-252.212 532.289,-243.288 522.26,-246.703 526.579,-252.212\"/>\n",
       "</g>\n",
       "</g>\n",
       "</svg>\n"
      ],
      "text/plain": [
       "<graphviz.files.Source at 0x1a24461cc0>"
      ]
     },
     "execution_count": 188,
     "metadata": {},
     "output_type": "execute_result"
    }
   ],
   "source": [
    "graph"
   ]
  },
  {
   "cell_type": "code",
   "execution_count": 189,
   "metadata": {},
   "outputs": [
    {
     "ename": "ValueError",
     "evalue": "Length of feature_names, 4 does not match number of features, 2",
     "output_type": "error",
     "traceback": [
      "\u001b[0;31m---------------------------------------------------------------------------\u001b[0m",
      "\u001b[0;31mValueError\u001b[0m                                Traceback (most recent call last)",
      "\u001b[0;32m<ipython-input-189-ae88144703d2>\u001b[0m in \u001b[0;36m<module>\u001b[0;34m()\u001b[0m\n\u001b[1;32m      3\u001b[0m                          \u001b[0mclass_names\u001b[0m\u001b[0;34m=\u001b[0m\u001b[0miris\u001b[0m\u001b[0;34m.\u001b[0m\u001b[0mtarget_names\u001b[0m\u001b[0;34m,\u001b[0m\u001b[0;34m\u001b[0m\u001b[0m\n\u001b[1;32m      4\u001b[0m                          \u001b[0mfilled\u001b[0m\u001b[0;34m=\u001b[0m\u001b[0;32mTrue\u001b[0m\u001b[0;34m,\u001b[0m \u001b[0mrounded\u001b[0m\u001b[0;34m=\u001b[0m\u001b[0;32mTrue\u001b[0m\u001b[0;34m,\u001b[0m\u001b[0;34m\u001b[0m\u001b[0m\n\u001b[0;32m----> 5\u001b[0;31m                          special_characters=True)  \n\u001b[0m\u001b[1;32m      6\u001b[0m \u001b[0;34m\u001b[0m\u001b[0m\n\u001b[1;32m      7\u001b[0m \u001b[0mgraph\u001b[0m \u001b[0;34m=\u001b[0m \u001b[0mgraphviz\u001b[0m\u001b[0;34m.\u001b[0m\u001b[0mSource\u001b[0m\u001b[0;34m(\u001b[0m\u001b[0mdot_data\u001b[0m\u001b[0;34m)\u001b[0m\u001b[0;34m\u001b[0m\u001b[0m\n",
      "\u001b[0;32m/Applications/anaconda3/lib/python3.6/site-packages/sklearn/tree/export.py\u001b[0m in \u001b[0;36mexport_graphviz\u001b[0;34m(decision_tree, out_file, max_depth, feature_names, class_names, label, filled, leaves_parallel, impurity, node_ids, proportion, rotate, rounded, special_characters, precision)\u001b[0m\n\u001b[1;32m    427\u001b[0m                                  \u001b[0;34m\"does not match number of features, %d\"\u001b[0m\u001b[0;34m\u001b[0m\u001b[0m\n\u001b[1;32m    428\u001b[0m                                  % (len(feature_names),\n\u001b[0;32m--> 429\u001b[0;31m                                     decision_tree.n_features_))\n\u001b[0m\u001b[1;32m    430\u001b[0m \u001b[0;34m\u001b[0m\u001b[0m\n\u001b[1;32m    431\u001b[0m         \u001b[0;31m# The depth of each node for plotting with 'leaf' option\u001b[0m\u001b[0;34m\u001b[0m\u001b[0;34m\u001b[0m\u001b[0m\n",
      "\u001b[0;31mValueError\u001b[0m: Length of feature_names, 4 does not match number of features, 2"
     ]
    }
   ],
   "source": [
    "dot_data = tree.export_graphviz(clf, out_file=None, \n",
    "                         feature_names=iris.feature_names,  \n",
    "                         class_names=iris.target_names,  \n",
    "                         filled=True, rounded=True,  \n",
    "                         special_characters=True)  \n",
    "\n",
    "graph = graphviz.Source(dot_data)  \n",
    "graph "
   ]
  },
  {
   "cell_type": "markdown",
   "metadata": {},
   "source": [
    "## Exemplo 2: Árvore de Decisão e Random Florest\n",
    "Material retirado do GitHub do Jake Vanderplas:\n",
    "\n",
    "https://github.com/jakevdp/PythonDataScienceHandbook/blob/master/notebooks/05.08-Random-Forests.ipynb\n"
   ]
  },
  {
   "cell_type": "code",
   "execution_count": 190,
   "metadata": {},
   "outputs": [
    {
     "data": {
      "image/png": "[encoded data removed]",
      "text/plain": [
       "<matplotlib.figure.Figure at 0x1a24571390>"
      ]
     },
     "metadata": {},
     "output_type": "display_data"
    }
   ],
   "source": [
    "from sklearn.datasets import make_blobs\n",
    "\n",
    "X, y = make_blobs(n_samples=300, centers=4,\n",
    "                  random_state=0, cluster_std=1.0)\n",
    "plt.scatter(X[:, 0], X[:, 1], c=y, s=50, cmap='rainbow');"
   ]
  },
  {
   "cell_type": "code",
   "execution_count": 191,
   "metadata": {},
   "outputs": [
    {
     "data": {
      "text/plain": [
       "array([[  2.45830537e-02,   2.96215652e+00],\n",
       "       [ -1.52392631e+00,   7.12573205e+00],\n",
       "       [  1.27450825e+00,   5.63017322e+00],\n",
       "       [ -8.65523345e-01,   7.80121774e+00],\n",
       "       [  7.48740670e-01,   2.55579434e+00],\n",
       "       [  4.35918422e+00,  -1.62352163e-01],\n",
       "       [ -1.99576820e+00,   7.16440976e-01],\n",
       "       [  1.70536064e+00,   4.43277024e+00],\n",
       "       [  4.90616903e-01,   8.82985441e+00],\n",
       "       [ -3.52995502e-01,   9.21042408e+00],\n",
       "       [ -1.83601846e+00,   2.68441560e+00],\n",
       "       [ -3.61784268e+00,   8.69951232e+00],\n",
       "       [  1.42013331e+00,   4.63746165e+00],\n",
       "       [ -2.88089030e+00,   6.26769229e+00],\n",
       "       [  1.05505217e+00,  -6.47107437e-01],\n",
       "       [  1.05472929e-01,   3.72493766e+00],\n",
       "       [  1.13121750e+00,   4.68194985e+00],\n",
       "       [  2.91209813e+00,   2.46638067e-01],\n",
       "       [ -7.60240832e-01,   3.27417508e+00],\n",
       "       [ -7.79715679e-01,   1.72893731e+00],\n",
       "       [  3.15492712e+00,   1.55292739e+00],\n",
       "       [  1.59167155e+00,   1.37914513e+00],\n",
       "       [  5.73093132e-01,   5.52623240e+00],\n",
       "       [ -2.30953317e+00,   2.80749296e+00],\n",
       "       [ -2.17919761e+00,   2.39669295e+00],\n",
       "       [ -1.57671974e+00,   4.95740592e+00],\n",
       "       [  1.45895348e+00,   8.45096364e-01],\n",
       "       [  3.40424000e-01,   4.98022062e+00],\n",
       "       [ -3.78246824e+00,   1.89537542e+00],\n",
       "       [ -3.39637332e-01,   3.84220272e+00],\n",
       "       [ -2.33852106e-02,   7.90031612e+00],\n",
       "       [ -2.59618120e+00,   7.07388663e+00],\n",
       "       [  2.47034915e+00,   4.09862906e+00],\n",
       "       [ -1.05318608e+00,   6.05389716e+00],\n",
       "       [ -1.90831209e+00,   8.01127897e+00],\n",
       "       [ -3.20005988e+00,   7.17556829e+00],\n",
       "       [ -2.52794495e+00,   7.25002881e+00],\n",
       "       [ -3.53687581e+00,   8.08694443e+00],\n",
       "       [ -2.65372982e+00,   2.18720451e+00],\n",
       "       [  1.40285894e+00,   5.06710285e-01],\n",
       "       [  4.65464941e-01,   3.12315514e+00],\n",
       "       [ -2.29104794e+00,   1.48009079e+00],\n",
       "       [ -7.30000112e-01,   6.25456272e+00],\n",
       "       [  1.92352205e+00,   4.14877723e+00],\n",
       "       [ -1.81874138e+00,   2.15639005e+00],\n",
       "       [ -6.85272749e-01,   2.66842368e+00],\n",
       "       [ -1.46520534e+00,   8.28085327e+00],\n",
       "       [ -1.56907546e+00,   2.63099507e+00],\n",
       "       [ -1.63290120e+00,   7.39162392e+00],\n",
       "       [  1.94472686e+00,   1.91783637e+00],\n",
       "       [ -2.23160429e+00,   3.86114299e+00],\n",
       "       [  2.72165060e+00,   4.36943873e-01],\n",
       "       [ -6.58375954e-01,   7.47160121e+00],\n",
       "       [  1.45795145e+00,   6.59741930e-01],\n",
       "       [  1.55723507e+00,   2.82719571e+00],\n",
       "       [ -8.33130861e-01,   2.75830882e+00],\n",
       "       [  7.63000907e-01,   7.79086459e+00],\n",
       "       [ -8.83589548e-01,   1.34725885e+00],\n",
       "       [ -2.17841228e+00,   7.65687092e+00],\n",
       "       [  9.50884182e-01,   9.49828739e-01],\n",
       "       [ -2.92947399e+00,   6.94648866e+00],\n",
       "       [  3.01937418e-01,   4.33561789e+00],\n",
       "       [ -1.75107248e+00,   1.02479137e+01],\n",
       "       [ -7.12384191e-01,   2.97680785e+00],\n",
       "       [ -2.49800858e+00,   3.23269947e+00],\n",
       "       [ -9.59613735e-01,   2.69520716e+00],\n",
       "       [ -3.26466240e+00,   7.29600538e+00],\n",
       "       [  2.57915855e+00,   9.86085747e-01],\n",
       "       [ -3.61242959e+00,   7.85579420e+00],\n",
       "       [ -1.47740903e+00,   3.41171904e+00],\n",
       "       [  1.55286090e+00,   4.09548857e+00],\n",
       "       [  2.05817174e-01,   3.60238337e+00],\n",
       "       [ -8.96475664e-01,   8.21469555e+00],\n",
       "       [ -1.65701097e+00,   3.01183549e+00],\n",
       "       [ -1.48827346e+00,   1.26116716e+00],\n",
       "       [ -4.76849826e-01,   8.86489884e+00],\n",
       "       [ -1.91178382e+00,   3.01223385e+00],\n",
       "       [  1.33263648e+00,   5.01036050e+00],\n",
       "       [  2.19722068e+00,   5.78335243e-01],\n",
       "       [ -8.93498082e-01,   8.45234657e+00],\n",
       "       [  7.21009050e-01,  -4.49053846e-01],\n",
       "       [  3.41947985e-01,   3.94104616e+00],\n",
       "       [  7.62410612e-01,   1.16471453e+00],\n",
       "       [  1.51240605e+00,   1.31371371e+00],\n",
       "       [ -7.49565500e-01,   8.88343217e+00],\n",
       "       [  9.08028473e-01,   6.01713005e+00],\n",
       "       [  2.57854418e+00,   7.26117329e-01],\n",
       "       [  6.34478531e-02,   5.42080362e+00],\n",
       "       [ -2.58046743e+00,   5.86683533e+00],\n",
       "       [ -1.59570643e+00,   7.25419154e+00],\n",
       "       [  2.31515256e-01,   3.47734879e+00],\n",
       "       [  1.59973502e+00,   9.15142819e-01],\n",
       "       [ -2.42741371e+00,   9.13688809e+00],\n",
       "       [ -1.89159756e+00,   3.07458612e+00],\n",
       "       [ -9.48382515e-01,   3.26753672e+00],\n",
       "       [  1.28933778e+00,   3.44969159e+00],\n",
       "       [  8.99085090e-01,   1.67886176e+00],\n",
       "       [  2.96544643e+00,   1.21488188e+00],\n",
       "       [ -1.96853327e-01,   6.24740851e+00],\n",
       "       [ -4.18607625e+00,   3.52420179e+00],\n",
       "       [ -1.47971437e-01,   9.13348199e+00],\n",
       "       [  1.41164912e+00,  -1.32573949e+00],\n",
       "       [ -3.05787656e-01,   7.56786527e+00],\n",
       "       [  2.57633240e+00,   3.21875690e-01],\n",
       "       [  1.10318217e+00,   4.70577669e+00],\n",
       "       [  2.34161121e+00,   1.50650749e+00],\n",
       "       [  2.69539905e+00,  -7.19292384e-01],\n",
       "       [  1.59034945e+00,   5.22599400e+00],\n",
       "       [ -1.35874518e+00,   6.17476020e+00],\n",
       "       [  9.86770099e-01,   6.08965782e+00],\n",
       "       [ -7.53651036e-01,   1.73400162e+00],\n",
       "       [ -1.66060557e+00,   3.99562607e+00],\n",
       "       [  1.25185786e+00,   2.08113882e-01],\n",
       "       [ -2.79868512e+00,   8.25277884e+00],\n",
       "       [  1.68608568e+00,   6.58284482e-01],\n",
       "       [  2.85942078e+00,   2.95602827e+00],\n",
       "       [ -1.90680874e+00,   7.32122605e+00],\n",
       "       [  4.72329124e-01,   1.50804304e+00],\n",
       "       [  1.31570453e+00,   2.44067826e+00],\n",
       "       [  1.15044393e-01,   6.21385228e+00],\n",
       "       [  1.21230919e-01,   3.08211002e+00],\n",
       "       [  1.42717996e+00,   4.16636541e-01],\n",
       "       [ -6.68980089e-01,   4.05898413e+00],\n",
       "       [  8.66408264e-01,   3.90847306e-01],\n",
       "       [  1.01001416e+00,   2.10880895e+00],\n",
       "       [  2.03824711e+00,   1.27681540e+00],\n",
       "       [  1.41783050e+00,   5.00391846e-01],\n",
       "       [ -1.24646231e+00,   1.92475865e+00],\n",
       "       [  5.14470507e-01,   9.60925654e-01],\n",
       "       [ -1.88033576e+00,   1.30140807e+00],\n",
       "       [  2.65072308e-01,   8.38859208e+00],\n",
       "       [ -1.71195768e+00,   2.11023377e+00],\n",
       "       [ -1.79463755e+00,   1.78987093e+00],\n",
       "       [  2.68049897e+00,  -7.04393996e-01],\n",
       "       [ -1.46779680e+00,   6.75142339e+00],\n",
       "       [ -1.06948841e+00,   1.95327025e+00],\n",
       "       [ -2.97343871e+00,   3.71818021e+00],\n",
       "       [ -2.65421869e+00,   7.24540237e+00],\n",
       "       [  1.63123797e-01,   2.57750473e+00],\n",
       "       [ -6.68771735e-02,   7.20355626e+00],\n",
       "       [ -3.48785983e+00,   8.23695907e+00],\n",
       "       [ -7.26339210e-01,   2.99614244e+00],\n",
       "       [  1.44193252e+00,   2.76754364e+00],\n",
       "       [ -1.68457103e+00,   5.17460576e+00],\n",
       "       [  2.46452227e+00,   6.19967650e+00],\n",
       "       [ -1.92213300e+00,   1.75846174e+00],\n",
       "       [ -1.47086146e+00,   6.92238080e+00],\n",
       "       [ -6.37627769e-01,   4.09104705e+00],\n",
       "       [ -1.00613781e+00,   6.94673976e+00],\n",
       "       [ -2.15701902e+00,   7.41114239e+00],\n",
       "       [ -1.68744530e+00,   8.01679844e+00],\n",
       "       [  9.48087850e-01,   4.73211920e+00],\n",
       "       [ -1.70058471e-01,   5.27627535e+00],\n",
       "       [ -2.76525282e-01,   5.08127768e+00],\n",
       "       [  1.24190326e+00,  -5.68760668e-01],\n",
       "       [ -7.05318301e-01,   2.92317491e+00],\n",
       "       [ -7.04943883e-01,   8.27450297e+00],\n",
       "       [ -2.12555795e+00,   1.80198528e+00],\n",
       "       [  1.74438135e+00,   9.95063826e-01],\n",
       "       [  1.18454506e+00,   5.28042636e+00],\n",
       "       [ -2.38805823e+00,   8.62041754e+00],\n",
       "       [  4.66617897e-01,   3.86571303e+00],\n",
       "       [  5.88943261e-01,   4.00148458e+00],\n",
       "       [  1.36321767e+00,   2.43404071e+00],\n",
       "       [  7.08266708e-01,   5.10624372e+00],\n",
       "       [ -3.36997356e+00,   2.43990826e+00],\n",
       "       [ -5.83857926e-01,   1.78205094e-01],\n",
       "       [ -2.94214920e-01,   5.27318404e+00],\n",
       "       [  1.02102468e+00,   1.57925818e+00],\n",
       "       [  1.37227679e+00,   3.21072582e+00],\n",
       "       [  1.15369622e+00,   3.90200639e+00],\n",
       "       [ -1.21125005e+00,   8.60336242e+00],\n",
       "       [  1.09932252e+00,   5.51681884e-01],\n",
       "       [  2.50904929e+00,   5.77314610e+00],\n",
       "       [ -1.18799989e+00,   4.93892582e+00],\n",
       "       [ -1.08432720e+00,   7.93178137e+00],\n",
       "       [  2.74508569e+00,   2.19950989e+00],\n",
       "       [  2.48152625e+00,   1.57457169e+00],\n",
       "       [  3.03809631e-01,   3.94423417e+00],\n",
       "       [ -5.95055639e-01,   3.25784725e+00],\n",
       "       [  3.00468833e+00,   9.85214901e-01],\n",
       "       [  2.15504965e+00,   4.12386249e+00],\n",
       "       [ -2.68425927e+00,   2.60559001e+00],\n",
       "       [ -1.61283478e+00,   3.11217520e+00],\n",
       "       [ -5.14987514e-01,   4.74317903e+00],\n",
       "       [  1.73730780e+00,   4.42546234e+00],\n",
       "       [  1.12031365e+00,   5.75806083e+00],\n",
       "       [  6.28357929e-01,   4.46013630e+00],\n",
       "       [  2.74680627e+00,   1.59241280e+00],\n",
       "       [ -2.05388228e+00,   6.71714809e+00],\n",
       "       [ -7.22828865e-02,   2.88376939e+00],\n",
       "       [ -6.51071252e-01,   2.80277479e+00],\n",
       "       [  1.04278730e+00,   4.60625923e+00],\n",
       "       [  2.81702219e-01,   4.15415279e+00],\n",
       "       [ -2.51241475e+00,   1.44604725e+00],\n",
       "       [ -1.25238766e+00,   2.02696718e+00],\n",
       "       [ -3.62150708e+00,   3.04160418e+00],\n",
       "       [  2.10290600e+00,   3.22385582e+00],\n",
       "       [ -2.21474162e+00,   1.70380486e+00],\n",
       "       [ -2.19262427e+00,   8.07356316e+00],\n",
       "       [  1.35269561e+00,   3.20438654e+00],\n",
       "       [ -5.97398902e-01,   3.50010685e+00],\n",
       "       [  1.74625455e+00,  -7.78340146e-01],\n",
       "       [ -1.99374956e+00,   1.50097615e+00],\n",
       "       [  1.37861172e+00,   3.61897724e+00],\n",
       "       [ -1.64064477e+00,   4.78931696e+00],\n",
       "       [ -1.58853042e+00,   2.81057699e+00],\n",
       "       [ -3.11513311e-01,   9.24778772e+00],\n",
       "       [  1.14294357e+00,   4.93881876e+00],\n",
       "       [ -7.94473862e-01,   6.00571960e+00],\n",
       "       [  1.64856484e+00,   4.71124916e+00],\n",
       "       [ -1.71755751e+00,   2.52303275e+00],\n",
       "       [ -6.53928268e-01,   4.76656958e+00],\n",
       "       [  2.20656076e+00,   5.50616718e+00],\n",
       "       [ -1.50990122e+00,   7.65321523e+00],\n",
       "       [ -1.62372165e-01,   2.22843308e+00],\n",
       "       [ -4.58394614e-01,   2.46449646e+00],\n",
       "       [  1.93710348e+00,   2.17485456e-01],\n",
       "       [  3.54975207e+00,  -1.17232137e+00],\n",
       "       [  6.89717142e-02,   4.35573272e+00],\n",
       "       [ -2.27819106e+00,   7.48551665e+00],\n",
       "       [  2.84159548e+00,   4.31244563e-01],\n",
       "       [  2.03094140e+00,   1.59632751e-01],\n",
       "       [ -3.28279460e+00,   3.36881672e+00],\n",
       "       [  1.32967014e+00,  -4.85700295e-01],\n",
       "       [ -3.29544246e+00,   3.27336405e+00],\n",
       "       [  8.84843309e-02,   2.32299086e+00],\n",
       "       [  7.08811016e-02,   6.95304120e+00],\n",
       "       [ -1.04895558e+00,   7.78485647e+00],\n",
       "       [  2.89921211e+00,   5.78430212e+00],\n",
       "       [  1.02202860e+00,   4.11660348e+00],\n",
       "       [ -1.49027560e+00,   9.35372119e+00],\n",
       "       [  5.62651098e-01,   3.55633252e+00],\n",
       "       [  1.18987716e-01,   1.08644226e+00],\n",
       "       [ -8.28446864e-01,   2.92165315e+00],\n",
       "       [  6.64717546e-01,   4.35995267e+00],\n",
       "       [  1.92238694e+00,   5.99872781e-01],\n",
       "       [ -1.06377368e+00,   3.19697803e+00],\n",
       "       [ -9.63976104e-01,   9.57812880e+00],\n",
       "       [ -2.09621607e+00,   3.18778662e+00],\n",
       "       [  3.24329731e+00,   1.21460627e+00],\n",
       "       [ -1.88879762e-01,   5.20461381e+00],\n",
       "       [  4.31457647e+00,   8.55406508e-01],\n",
       "       [ -1.80256540e+00,   7.36482236e+00],\n",
       "       [ -1.71828866e+00,   7.61872855e+00],\n",
       "       [ -2.20876016e+00,   7.04234265e+00],\n",
       "       [ -1.97730043e+00,   8.03201742e+00],\n",
       "       [ -1.73380769e+00,   3.79806117e+00],\n",
       "       [ -1.15607901e+00,   3.05994407e+00],\n",
       "       [ -3.85659763e-01,   5.17984092e+00],\n",
       "       [  3.35941485e+00,   5.24826681e+00],\n",
       "       [ -1.54258612e+00,   3.07881043e+00],\n",
       "       [  1.11082127e+00,   4.87613967e-01],\n",
       "       [  2.06354004e-01,   4.84303652e+00],\n",
       "       [ -2.00655983e+00,   3.53824056e+00],\n",
       "       [ -2.21091491e+00,   4.57743306e+00],\n",
       "       [ -6.90915246e-03,   4.63747157e+00],\n",
       "       [  2.01598470e+00,  -2.70429838e-01],\n",
       "       [  2.21177406e+00,   1.12984470e+00],\n",
       "       [ -1.45115262e+00,   7.72557724e+00],\n",
       "       [  8.73051227e-01,   4.71438583e+00],\n",
       "       [ -9.44825430e-02,   5.35823905e+00],\n",
       "       [ -2.58153248e+00,   3.73813010e+00],\n",
       "       [  9.07798869e-01,   4.59843615e-01],\n",
       "       [ -1.19661710e-01,   8.33146096e+00],\n",
       "       [ -6.57940526e-01,   3.19475417e+00],\n",
       "       [  1.84070628e+00,   3.56162231e+00],\n",
       "       [ -1.51908929e-01,   7.60124421e+00],\n",
       "       [  5.41116527e-01,   6.15305106e+00],\n",
       "       [  2.15299249e+00,   1.48061734e+00],\n",
       "       [  6.31206612e-01,   4.04343777e-01],\n",
       "       [ -3.22500983e+00,   3.30516274e+00],\n",
       "       [ -2.24650840e+00,   2.10488927e+00],\n",
       "       [  3.24602470e+00,   2.84942165e+00],\n",
       "       [  4.21850347e+00,   2.23419161e+00],\n",
       "       [  1.70127361e+00,  -4.77287633e-01],\n",
       "       [  8.29832003e-01,   1.74202664e+00],\n",
       "       [  2.84382904e+00,   5.20983199e+00],\n",
       "       [ -1.23962788e+00,   8.36246422e+00],\n",
       "       [ -2.26629765e+00,   7.75760526e+00],\n",
       "       [  3.20759909e+00,   1.97728225e+00],\n",
       "       [  2.97612635e+00,   1.21639131e+00],\n",
       "       [  2.11567076e+00,   3.06896151e+00],\n",
       "       [  2.54900930e+00,   7.81559721e-01],\n",
       "       [  2.33519212e+00,   7.99513270e-01],\n",
       "       [  4.01117983e+00,   1.28775698e+00],\n",
       "       [ -1.76577482e+00,   6.85663016e+00],\n",
       "       [ -6.03252976e-02,   3.77043420e+00],\n",
       "       [ -1.37930979e+00,   8.96853990e+00],\n",
       "       [  8.77817554e-01,   3.64030904e+00],\n",
       "       [  2.45431387e+00,  -1.87492910e+00],\n",
       "       [  1.65581849e+00,   1.26771955e+00],\n",
       "       [ -1.03477573e+00,   6.62688636e+00],\n",
       "       [ -1.92628156e+00,   9.13330581e+00],\n",
       "       [ -1.29395974e+00,   8.05596767e+00],\n",
       "       [  1.91931782e+00,   2.03455502e+00],\n",
       "       [  2.82705807e+00,   1.72116781e+00],\n",
       "       [  8.08035174e-02,   4.69068983e+00],\n",
       "       [  1.44796828e+00,   7.76153535e+00],\n",
       "       [ -1.96782665e+00,   2.63752677e+00]])"
      ]
     },
     "execution_count": 191,
     "metadata": {},
     "output_type": "execute_result"
    }
   ],
   "source": [
    "X"
   ]
  },
  {
   "cell_type": "code",
   "execution_count": 192,
   "metadata": {},
   "outputs": [
    {
     "data": {
      "text/plain": [
       "array([1, 3, 0, 3, 1, 1, 2, 0, 3, 3, 2, 3, 0, 3, 1, 0, 0, 1, 2, 2, 1, 1, 0,\n",
       "       2, 2, 0, 1, 0, 2, 0, 3, 3, 0, 3, 3, 3, 3, 3, 2, 1, 0, 2, 0, 0, 2, 2,\n",
       "       3, 2, 3, 1, 2, 1, 3, 1, 1, 2, 3, 2, 3, 1, 3, 0, 3, 2, 2, 2, 3, 1, 3,\n",
       "       2, 0, 2, 3, 2, 2, 3, 2, 0, 1, 3, 1, 0, 1, 1, 3, 0, 1, 0, 3, 3, 0, 1,\n",
       "       3, 2, 2, 0, 1, 1, 0, 2, 3, 1, 3, 1, 0, 1, 1, 0, 3, 0, 2, 2, 1, 3, 1,\n",
       "       0, 3, 1, 1, 0, 2, 1, 2, 1, 1, 1, 1, 2, 1, 2, 3, 2, 2, 1, 3, 2, 2, 3,\n",
       "       0, 3, 3, 2, 0, 2, 0, 2, 3, 0, 3, 3, 3, 0, 3, 0, 1, 2, 3, 2, 1, 0, 3,\n",
       "       0, 0, 1, 0, 2, 2, 0, 1, 0, 0, 3, 1, 0, 2, 3, 1, 1, 0, 2, 1, 0, 2, 2,\n",
       "       0, 0, 0, 0, 1, 3, 0, 2, 0, 0, 2, 2, 2, 0, 2, 3, 0, 2, 1, 2, 0, 3, 2,\n",
       "       3, 0, 3, 0, 2, 0, 0, 3, 2, 2, 1, 1, 0, 3, 1, 1, 2, 1, 2, 0, 3, 3, 0,\n",
       "       0, 3, 0, 1, 2, 0, 1, 2, 3, 2, 1, 0, 1, 3, 3, 3, 3, 2, 2, 3, 0, 2, 1,\n",
       "       0, 2, 2, 2, 1, 1, 3, 0, 0, 2, 1, 3, 2, 0, 3, 0, 1, 1, 2, 2, 0, 1, 1,\n",
       "       1, 0, 3, 3, 1, 1, 0, 1, 1, 1, 3, 2, 3, 0, 1, 1, 3, 3, 3, 1, 1, 0, 3,\n",
       "       2])"
      ]
     },
     "execution_count": 192,
     "metadata": {},
     "output_type": "execute_result"
    }
   ],
   "source": [
    "y"
   ]
  },
  {
   "cell_type": "markdown",
   "metadata": {},
   "source": [
    "### Módulo para Apresentação do resultado dos classificadores"
   ]
  },
  {
   "cell_type": "code",
   "execution_count": 193,
   "metadata": {},
   "outputs": [
    {
     "name": "stdout",
     "output_type": "stream",
     "text": [
      "Overwriting helpers_05_08.py\n"
     ]
    }
   ],
   "source": [
    "%%file helpers_05_08.py\n",
    "\n",
    "import numpy as np\n",
    "import matplotlib.pyplot as plt\n",
    "from sklearn.tree import DecisionTreeClassifier\n",
    "from ipywidgets import interact\n",
    "\n",
    "\n",
    "def visualize_tree(estimator, X, y, boundaries=True,\n",
    "                   xlim=None, ylim=None, ax=None):\n",
    "    ax = ax or plt.gca()\n",
    "    \n",
    "    # Plot the training points\n",
    "    ax.scatter(X[:, 0], X[:, 1], c=y, s=30, cmap='viridis',\n",
    "               clim=(y.min(), y.max()), zorder=3)\n",
    "    ax.axis('tight')\n",
    "    ax.axis('off')\n",
    "    if xlim is None:\n",
    "        xlim = ax.get_xlim()\n",
    "    if ylim is None:\n",
    "        ylim = ax.get_ylim()\n",
    "    \n",
    "    # fit the estimator\n",
    "    estimator.fit(X, y)\n",
    "    xx, yy = np.meshgrid(np.linspace(*xlim, num=200),\n",
    "                         np.linspace(*ylim, num=200))\n",
    "    Z = estimator.predict(np.c_[xx.ravel(), yy.ravel()])\n",
    "\n",
    "    # Put the result into a color plot\n",
    "    n_classes = len(np.unique(y))\n",
    "    Z = Z.reshape(xx.shape)\n",
    "    contours = ax.contourf(xx, yy, Z, alpha=0.3,\n",
    "                           levels=np.arange(n_classes + 1) - 0.5,\n",
    "                           cmap='viridis', clim=(y.min(), y.max()),\n",
    "                           zorder=1)\n",
    "\n",
    "    ax.set(xlim=xlim, ylim=ylim)\n",
    "    \n",
    "    # Plot the decision boundaries\n",
    "    def plot_boundaries(i, xlim, ylim):\n",
    "        if i >= 0:\n",
    "            tree = estimator.tree_\n",
    "        \n",
    "            if tree.feature[i] == 0:\n",
    "                ax.plot([tree.threshold[i], tree.threshold[i]], ylim, '-k', zorder=2)\n",
    "                plot_boundaries(tree.children_left[i],\n",
    "                                [xlim[0], tree.threshold[i]], ylim)\n",
    "                plot_boundaries(tree.children_right[i],\n",
    "                                [tree.threshold[i], xlim[1]], ylim)\n",
    "        \n",
    "            elif tree.feature[i] == 1:\n",
    "                ax.plot(xlim, [tree.threshold[i], tree.threshold[i]], '-k', zorder=2)\n",
    "                plot_boundaries(tree.children_left[i], xlim,\n",
    "                                [ylim[0], tree.threshold[i]])\n",
    "                plot_boundaries(tree.children_right[i], xlim,\n",
    "                                [tree.threshold[i], ylim[1]])\n",
    "            \n",
    "    if boundaries:\n",
    "        plot_boundaries(0, xlim, ylim)\n",
    "\n",
    "\n",
    "def plot_tree_interactive(X, y):\n",
    "    def interactive_tree(depth=5):\n",
    "        clf = DecisionTreeClassifier(max_depth=depth, random_state=0)\n",
    "        visualize_tree(clf, X, y)\n",
    "\n",
    "    return interact(interactive_tree, depth=[1, 5])\n",
    "\n",
    "\n",
    "def randomized_tree_interactive(X, y):\n",
    "    N = int(0.75 * X.shape[0])\n",
    "    \n",
    "    xlim = (X[:, 0].min(), X[:, 0].max())\n",
    "    ylim = (X[:, 1].min(), X[:, 1].max())\n",
    "    \n",
    "    def fit_randomized_tree(random_state=0):\n",
    "        clf = DecisionTreeClassifier(max_depth=15)\n",
    "        i = np.arange(len(y))\n",
    "        rng = np.random.RandomState(random_state)\n",
    "        rng.shuffle(i)\n",
    "        visualize_tree(clf, X[i[:N]], y[i[:N]], boundaries=False,\n",
    "                       xlim=xlim, ylim=ylim)\n",
    "    \n",
    "    interact(fit_randomized_tree, random_state=[0, 100]);"
   ]
  },
  {
   "cell_type": "markdown",
   "metadata": {},
   "source": [
    "\n",
    "As figuras a seguir apresentam uma visualização dos primeiros 04 níveis de uma decision tree classifier."
   ]
  },
  {
   "cell_type": "code",
   "execution_count": 194,
   "metadata": {},
   "outputs": [
    {
     "data": {
      "image/png": "[encoded data removed]",
      "text/plain": [
       "<matplotlib.figure.Figure at 0x1a22e83d30>"
      ]
     },
     "metadata": {},
     "output_type": "display_data"
    }
   ],
   "source": [
    "from helpers_05_08 import visualize_tree\n",
    "from sklearn.tree import DecisionTreeClassifier\n",
    "from sklearn.datasets import make_blobs\n",
    "\n",
    "        \n",
    "fig, ax = plt.subplots(1, 4, figsize=(16, 3))\n",
    "fig.subplots_adjust(left=0.02, right=0.98, wspace=0.1)\n",
    "\n",
    "X, y = make_blobs(n_samples=300, centers=4,\n",
    "                  random_state=0, cluster_std=1.0)\n",
    "\n",
    "for axi, depth in zip(ax, range(1, 5)):\n",
    "    model = DecisionTreeClassifier(max_depth=depth)\n",
    "    visualize_tree(model, X, y, ax=axi)\n",
    "    axi.set_title('depth = {0}'.format(depth))\n",
    "\n",
    "#fig.savefig('figures/05.08-decision-tree-levels.png')"
   ]
  },
  {
   "cell_type": "markdown",
   "metadata": {},
   "source": [
    "Este processo de montagem de uma árvore de decisão para nossos dados pode ser feito no Scikit-Learn com o estimador DecisionTreeClassifier:"
   ]
  },
  {
   "cell_type": "code",
   "execution_count": 195,
   "metadata": {},
   "outputs": [],
   "source": [
    "from sklearn.tree import DecisionTreeClassifier\n",
    "tree = DecisionTreeClassifier().fit(X, y)"
   ]
  },
  {
   "cell_type": "markdown",
   "metadata": {},
   "source": [
    "#### Função para VIsualização do Resultado"
   ]
  },
  {
   "cell_type": "code",
   "execution_count": 196,
   "metadata": {
    "collapsed": true
   },
   "outputs": [],
   "source": [
    "def visualize_classifier(model, X, y, ax=None, cmap='rainbow'):\n",
    "    ax = ax or plt.gca()\n",
    "    \n",
    "    # Plot the training points\n",
    "    ax.scatter(X[:, 0], X[:, 1], c=y, s=30, cmap=cmap,\n",
    "               clim=(y.min(), y.max()), zorder=3)\n",
    "    ax.axis('tight')\n",
    "    ax.axis('off')\n",
    "    xlim = ax.get_xlim()\n",
    "    ylim = ax.get_ylim()\n",
    "    \n",
    "    # fit the estimator\n",
    "    model.fit(X, y)\n",
    "    xx, yy = np.meshgrid(np.linspace(*xlim, num=200),\n",
    "                         np.linspace(*ylim, num=200))\n",
    "    Z = model.predict(np.c_[xx.ravel(), yy.ravel()]).reshape(xx.shape)\n",
    "\n",
    "    # Create a color plot with the results\n",
    "    n_classes = len(np.unique(y))\n",
    "    contours = ax.contourf(xx, yy, Z, alpha=0.3,\n",
    "                           levels=np.arange(n_classes + 1) - 0.5,\n",
    "                           cmap=cmap, clim=(y.min(), y.max()),\n",
    "                           zorder=1)\n",
    "\n",
    "    ax.set(xlim=xlim, ylim=ylim)"
   ]
  },
  {
   "cell_type": "markdown",
   "metadata": {},
   "source": [
    "### Resultado da classificação:"
   ]
  },
  {
   "cell_type": "code",
   "execution_count": 197,
   "metadata": {},
   "outputs": [
    {
     "data": {
      "image/png": "[encoded data removed]",
      "text/plain": [
       "<matplotlib.figure.Figure at 0x1a23e4ff98>"
      ]
     },
     "metadata": {},
     "output_type": "display_data"
    }
   ],
   "source": [
    "visualize_classifier(DecisionTreeClassifier(), X, y)"
   ]
  },
  {
   "cell_type": "code",
   "execution_count": 198,
   "metadata": {},
   "outputs": [
    {
     "data": {
      "application/vnd.jupyter.widget-view+json": {
       "model_id": "6697810b657a4ea08030490b0c0a6608",
       "version_major": 2,
       "version_minor": 0
      },
      "text/plain": [
       "A Jupyter Widget"
      ]
     },
     "metadata": {},
     "output_type": "display_data"
    }
   ],
   "source": [
    "# helpers_05_08 is found in the online appendix\n",
    "import helpers_05_08\n",
    "helpers_05_08.plot_tree_interactive(X, y);"
   ]
  },
  {
   "cell_type": "markdown",
   "metadata": {},
   "source": [
    "Observe que, à medida que a profundidade aumenta, tendemos a obter regiões de classificação muito estranhamente moldadas; por exemplo, em uma profundidade de cinco, há uma região roxa alta e estreita entre as regiões amarela e azul. É claro que isso é menos resultado da distribuição de dados verdadeira e intrínseca, e mais um resultado das propriedades específicas de amostragem ou ruído dos dados. Ou seja, esta árvore de decisão, mesmo com apenas cinco níveis de profundidade, está claramente altamente especializada nos nossos dados."
   ]
  },
  {
   "cell_type": "markdown",
   "metadata": {},
   "source": [
    "### Decision trees e over-fitting\n",
    "\n",
    "Esse excesso de ajuste acaba por ser uma propriedade geral das árvores de decisão: é muito fácil ir muito fundo na árvore e, portanto, ajustar os detalhes dos dados específicos em vez das propriedades gerais das distribuições de que são retirados. Outra maneira de ver isso em excesso é olhar para modelos treinados em diferentes subconjuntos dos dados.\n",
    "\n",
    "A seguir são apresentados resultados com conjuntos de dados distintos, que foram escolhidos randomicamente.\n"
   ]
  },
  {
   "cell_type": "code",
   "execution_count": 199,
   "metadata": {},
   "outputs": [
    {
     "data": {
      "application/vnd.jupyter.widget-view+json": {
       "model_id": "031d089790874a2986524e13a9b01f71",
       "version_major": 2,
       "version_minor": 0
      },
      "text/plain": [
       "A Jupyter Widget"
      ]
     },
     "metadata": {},
     "output_type": "display_data"
    }
   ],
   "source": [
    "# helpers_05_08 is found in the online appendix\n",
    "import helpers_05_08\n",
    "helpers_05_08.randomized_tree_interactive(X, y)"
   ]
  },
  {
   "cell_type": "markdown",
   "metadata": {},
   "source": [
    "### Ensembles of Estimators: Random Forests\n",
    "\n",
    "Essa noção - que os estimadores de superposição múltipla podem ser combinados para reduzir o efeito dessa superposição - é o que está subjacente a um método de conjunto chamado \"bagging\". Bagging faz uso de um conjunto de estimadores paralelos, cada um dos quais supera os dados e mede os resultados para encontrar uma classificação melhor. \n",
    "\n",
    "Um conjunto de árvores de decisão aleatorizada é conhecida como floresta aleatória.\n",
    "\n",
    "Este tipo de classificação pode ser feito manualmente usando o meta-estimador do Ensaio de Bagging do Scikit-Learn, conforme mostrado a seguir."
   ]
  },
  {
   "cell_type": "code",
   "execution_count": 200,
   "metadata": {},
   "outputs": [
    {
     "data": {
      "image/png": "[encoded data removed]",
      "text/plain": [
       "<matplotlib.figure.Figure at 0x1a2404b358>"
      ]
     },
     "metadata": {},
     "output_type": "display_data"
    }
   ],
   "source": [
    "from sklearn.tree import DecisionTreeClassifier\n",
    "from sklearn.ensemble import BaggingClassifier\n",
    "\n",
    "tree = DecisionTreeClassifier()\n",
    "bag = BaggingClassifier(tree, n_estimators=100, max_samples=0.8,\n",
    "                        random_state=1)\n",
    "\n",
    "bag.fit(X, y)\n",
    "visualize_classifier(bag, X, y)"
   ]
  },
  {
   "cell_type": "markdown",
   "metadata": {},
   "source": [
    "Neste exemplo, randomizamos os dados ajustando cada estimador com um subconjunto aleatório de 80% dos pontos de treinamento. Na prática, as árvores de decisão são mais efetivamente randomizadas, injetando alguma estocasticidade na forma como as divisões são escolhidas: desta forma, todos os dados contribuem para o ajuste de cada vez, mas os resultados do ajuste ainda possuem aleatoriedade desejada. Por exemplo, ao determinar qual recurso se dividir, a árvore randomizada pode selecionar entre os principais recursos."
   ]
  },
  {
   "cell_type": "markdown",
   "metadata": {},
   "source": [
    "No Scikit-Learn, um conjunto otimizado de árvores de decisão randomizadas é implementado no estimador RandomForestClassifier, que cuida de toda a randomização automaticamente. Tudo o que você precisa fazer é selecionar uma série de estimadores, e rapidamente (em paralelo, se desejar) se encaixam no conjunto de árvores."
   ]
  },
  {
   "cell_type": "markdown",
   "metadata": {},
   "source": [
    "Site do Scikit-learn: Random Florest:\n",
    "http://scikit-learn.org/stable/modules/ensemble.html#forest"
   ]
  },
  {
   "cell_type": "markdown",
   "metadata": {},
   "source": [
    "RandomForestClassifier(bootstrap=True, class_weight=None, criterion='gini',\n",
    "            max_depth=None, max_features='auto', max_leaf_nodes=None,\n",
    "            min_samples_leaf=1, min_samples_split=2,\n",
    "            min_weight_fraction_leaf=0.0, n_estimators=600, n_jobs=1,\n",
    "            oob_score=False, random_state=None, verbose=0,\n",
    "            warm_start=False)"
   ]
  },
  {
   "cell_type": "code",
   "execution_count": 201,
   "metadata": {},
   "outputs": [
    {
     "data": {
      "image/png": "[encoded data removed]",
      "text/plain": [
       "<matplotlib.figure.Figure at 0x1a234e09b0>"
      ]
     },
     "metadata": {},
     "output_type": "display_data"
    }
   ],
   "source": [
    "from sklearn.ensemble import RandomForestClassifier\n",
    "\n",
    "model = RandomForestClassifier(n_estimators=100, random_state=0)\n",
    "visualize_classifier(model, X, y);\n",
    "\n"
   ]
  },
  {
   "cell_type": "markdown",
   "metadata": {},
   "source": [
    "Verificamos que, com a média de mais de 100 modelos perturbados aleatoriamente, acabamos com um modelo geral que está muito mais próximo de nossa intuição sobre como o espaço de parâmetros deve ser dividido."
   ]
  },
  {
   "cell_type": "markdown",
   "metadata": {},
   "source": [
    "## Exercício 1: Random Forest para classificação de Dígitos\n"
   ]
  },
  {
   "cell_type": "code",
   "execution_count": 202,
   "metadata": {},
   "outputs": [
    {
     "data": {
      "text/plain": [
       "dict_keys(['data', 'target', 'target_names', 'images', 'DESCR'])"
      ]
     },
     "execution_count": 202,
     "metadata": {},
     "output_type": "execute_result"
    }
   ],
   "source": [
    "from sklearn.datasets import load_digits\n",
    "digits = load_digits()\n",
    "digits.keys()"
   ]
  },
  {
   "cell_type": "markdown",
   "metadata": {},
   "source": [
    "Para nos lembrar o que estamos vendo, visualizaremos os primeiros pontos de dados:"
   ]
  },
  {
   "cell_type": "code",
   "execution_count": 203,
   "metadata": {},
   "outputs": [
    {
     "data": {
      "image/png": "[encoded data removed]",
      "text/plain": [
       "<matplotlib.figure.Figure at 0x1a23370d68>"
      ]
     },
     "metadata": {},
     "output_type": "display_data"
    }
   ],
   "source": [
    "# set up the figure\n",
    "fig = plt.figure(figsize=(6, 6))  # figure size in inches\n",
    "fig.subplots_adjust(left=0, right=1, bottom=0, top=1, hspace=0.05, wspace=0.05)\n",
    "\n",
    "# plot the digits: each image is 8x8 pixels\n",
    "for i in range(64):\n",
    "    ax = fig.add_subplot(8, 8, i + 1, xticks=[], yticks=[])\n",
    "    ax.imshow(digits.images[i], cmap=plt.cm.binary, interpolation='nearest')\n",
    "    \n",
    "    # label the image with the target value\n",
    "    ax.text(0, 7, str(digits.target[i]))"
   ]
  },
  {
   "cell_type": "markdown",
   "metadata": {},
   "source": [
    "Podemos classificar rapidamente os dígitos usando uma Random Florest da seguinte maneira:"
   ]
  },
  {
   "cell_type": "code",
   "execution_count": 204,
   "metadata": {},
   "outputs": [],
   "source": [
    "from sklearn.cross_validation import train_test_split\n",
    "\n",
    "Xtrain, Xtest, ytrain, ytest = train_test_split(digits.data, digits.target,\n",
    "                                                random_state=0)\n",
    "model = RandomForestClassifier(n_estimators=1000)\n",
    "model.fit(Xtrain, ytrain)\n",
    "ypred = model.predict(Xtest)"
   ]
  },
  {
   "cell_type": "markdown",
   "metadata": {},
   "source": [
    "Podemos dar uma olhada no relatório de classificação para este classificador:"
   ]
  },
  {
   "cell_type": "code",
   "execution_count": 205,
   "metadata": {},
   "outputs": [
    {
     "name": "stdout",
     "output_type": "stream",
     "text": [
      "             precision    recall  f1-score   support\n",
      "\n",
      "          0       1.00      0.97      0.99        38\n",
      "          1       0.98      0.98      0.98        43\n",
      "          2       0.95      1.00      0.98        42\n",
      "          3       0.98      0.96      0.97        46\n",
      "          4       0.97      1.00      0.99        37\n",
      "          5       0.98      0.96      0.97        49\n",
      "          6       1.00      1.00      1.00        52\n",
      "          7       1.00      0.96      0.98        50\n",
      "          8       0.94      0.98      0.96        46\n",
      "          9       0.98      0.98      0.98        47\n",
      "\n",
      "avg / total       0.98      0.98      0.98       450\n",
      "\n"
     ]
    }
   ],
   "source": [
    "from sklearn import metrics\n",
    "print(metrics.classification_report(ypred, ytest))"
   ]
  },
  {
   "cell_type": "markdown",
   "metadata": {},
   "source": [
    "E, para uma boa medida, trace a matriz de confusão:"
   ]
  },
  {
   "cell_type": "code",
   "execution_count": 206,
   "metadata": {},
   "outputs": [
    {
     "data": {
      "image/png": "[encoded data removed]",
      "text/plain": [
       "<matplotlib.figure.Figure at 0x11666e438>"
      ]
     },
     "metadata": {},
     "output_type": "display_data"
    }
   ],
   "source": [
    "from sklearn.metrics import confusion_matrix\n",
    "mat = confusion_matrix(ytest, ypred)\n",
    "sns.heatmap(mat.T, square=True, annot=True, fmt='d', cbar=False)\n",
    "plt.xlabel('true label')\n",
    "plt.ylabel('predicted label');"
   ]
  },
  {
   "cell_type": "markdown",
   "metadata": {},
   "source": [
    "## Exercício 2: Dados do Censo Americano\n",
    "\n",
    "Examinaremos a renda individual nos Estados Unidos. Os dados são do censo de 1994 e contêm informações sobre o estado civil, a idade, o tipo de trabalho e mais do indivíduo. A coluna de destino (target), ou o que queremos prever, é predizer se os indivíduos ganham menos ou igual a 50k por ano ou mais de 50k por ano, a partir dos outros dados.\n"
   ]
  },
  {
   "cell_type": "markdown",
   "metadata": {},
   "source": [
    "Os dados podem ser obtidos a partir do website da University of California at Irvine."
   ]
  },
  {
   "cell_type": "markdown",
   "metadata": {},
   "source": [
    "http://archive.ics.uci.edu/ml/datasets/Adult"
   ]
  },
  {
   "cell_type": "code",
   "execution_count": 207,
   "metadata": {},
   "outputs": [],
   "source": [
    "import pandas\n",
    "\n",
    "# Set index_col to False to avoid pandas thinking that the first column is row indexes (it's age)\n",
    "#income = pandas.read_csv(\"http://archive.ics.uci.edu/ml/machine-learning-databases/adult/adult.data\", index_col=False)\n",
    "\n",
    "income = pandas.read_csv(\"http://archive.ics.uci.edu/ml/machine-learning-databases/adult/adult.data\")\n"
   ]
  },
  {
   "cell_type": "code",
   "execution_count": 208,
   "metadata": {},
   "outputs": [
    {
     "name": "stdout",
     "output_type": "stream",
     "text": [
      "   39          State-gov   77516   Bachelors   13        Never-married  \\\n",
      "0  50   Self-emp-not-inc   83311   Bachelors   13   Married-civ-spouse   \n",
      "1  38            Private  215646     HS-grad    9             Divorced   \n",
      "2  53            Private  234721        11th    7   Married-civ-spouse   \n",
      "3  28            Private  338409   Bachelors   13   Married-civ-spouse   \n",
      "4  37            Private  284582     Masters   14   Married-civ-spouse   \n",
      "\n",
      "         Adm-clerical   Not-in-family   White     Male   2174   0   40  \\\n",
      "0     Exec-managerial         Husband   White     Male      0   0   13   \n",
      "1   Handlers-cleaners   Not-in-family   White     Male      0   0   40   \n",
      "2   Handlers-cleaners         Husband   Black     Male      0   0   40   \n",
      "3      Prof-specialty            Wife   Black   Female      0   0   40   \n",
      "4     Exec-managerial            Wife   White   Female      0   0   40   \n",
      "\n",
      "    United-States   <=50K  \n",
      "0   United-States   <=50K  \n",
      "1   United-States   <=50K  \n",
      "2   United-States   <=50K  \n",
      "3            Cuba   <=50K  \n",
      "4   United-States   <=50K  \n"
     ]
    }
   ],
   "source": [
    "# Apresenta as 5 primeira linhas do DataFrame\n",
    "print(income.head(5))"
   ]
  },
  {
   "cell_type": "code",
   "execution_count": 209,
   "metadata": {},
   "outputs": [
    {
     "name": "stdout",
     "output_type": "stream",
     "text": [
      "   39          State-gov   77516   Bachelors   13        Never-married  \\\n",
      "0  50   Self-emp-not-inc   83311   Bachelors   13   Married-civ-spouse   \n",
      "\n",
      "       Adm-clerical  Not-in-family   White   Male   2174   0   40  \\\n",
      "0   Exec-managerial        Husband   White   Male      0   0   13   \n",
      "\n",
      "    United-States   <=50K  \n",
      "0   United-States   <=50K  \n"
     ]
    }
   ],
   "source": [
    "# Apresenta a primeira linha do DataFrame\n",
    "print(income.head(1))"
   ]
  },
  {
   "cell_type": "code",
   "execution_count": 210,
   "metadata": {},
   "outputs": [
    {
     "data": {
      "text/plain": [
       "Index(['39', ' State-gov', ' 77516', ' Bachelors', ' 13', ' Never-married',\n",
       "       ' Adm-clerical', ' Not-in-family', ' White', ' Male', ' 2174', ' 0',\n",
       "       ' 40', ' United-States', ' <=50K'],\n",
       "      dtype='object')"
      ]
     },
     "execution_count": 210,
     "metadata": {},
     "output_type": "execute_result"
    }
   ],
   "source": [
    "income.columns"
   ]
  },
  {
   "cell_type": "markdown",
   "metadata": {},
   "source": [
    "#### Inclusão dos nomes das colunas\n",
    "Esse DataFrame não tem nomes de colunas (features e target)\n",
    "- Necessidade de incluir nomes nas colunas.    "
   ]
  },
  {
   "cell_type": "markdown",
   "metadata": {},
   "source": [
    "Nomes das colunas do DataFrame:\n",
    "Verifique em http://archive.ics.uci.edu/ml/machine-learning-databases/adult/adult.names o significado das colunas.\n",
    "    \n",
    "- age\n",
    "- workclass\n",
    "- fnlwgt\n",
    "- education\n",
    "- education_num\n",
    "- marital_status\n",
    "- occupation\n",
    "- relationship\n",
    "- race\n",
    "- sex\n",
    "- capital_gain\n",
    "- capital_loss\n",
    "- hours_per_week\n",
    "- native_country\n",
    "- high_income"
   ]
  },
  {
   "cell_type": "code",
   "execution_count": 211,
   "metadata": {},
   "outputs": [],
   "source": [
    "# Inclusão dos nomes das colunas\n",
    "income.columns = [\"age\", \"workclass\", \"fnlwgt\", \"education\", \"education_num\", \"marital_status\", \"occupation\", \"relationship\", \"race\", \"sex\", \"capital_gain\",\"capital_loss\", \"hours_per_week\", \"native_country\", \"high_income\"]\n"
   ]
  },
  {
   "cell_type": "code",
   "execution_count": 212,
   "metadata": {},
   "outputs": [
    {
     "data": {
      "text/plain": [
       "Index(['age', 'workclass', 'fnlwgt', 'education', 'education_num',\n",
       "       'marital_status', 'occupation', 'relationship', 'race', 'sex',\n",
       "       'capital_gain', 'capital_loss', 'hours_per_week', 'native_country',\n",
       "       'high_income'],\n",
       "      dtype='object')"
      ]
     },
     "execution_count": 212,
     "metadata": {},
     "output_type": "execute_result"
    }
   ],
   "source": [
    "income.columns"
   ]
  },
  {
   "cell_type": "code",
   "execution_count": 213,
   "metadata": {},
   "outputs": [
    {
     "name": "stdout",
     "output_type": "stream",
     "text": [
      "   age          workclass  fnlwgt   education  education_num  \\\n",
      "0   50   Self-emp-not-inc   83311   Bachelors             13   \n",
      "\n",
      "        marital_status        occupation relationship    race    sex  \\\n",
      "0   Married-civ-spouse   Exec-managerial      Husband   White   Male   \n",
      "\n",
      "   capital_gain  capital_loss  hours_per_week  native_country high_income  \n",
      "0             0             0              13   United-States       <=50K  \n"
     ]
    }
   ],
   "source": [
    "print(income.head(1))"
   ]
  },
  {
   "cell_type": "markdown",
   "metadata": {},
   "source": [
    "#### Verificação do conteúdo da feature \"workclass)"
   ]
  },
  {
   "cell_type": "code",
   "execution_count": 214,
   "metadata": {},
   "outputs": [
    {
     "name": "stdout",
     "output_type": "stream",
     "text": [
      "0     Self-emp-not-inc\n",
      "1              Private\n",
      "2              Private\n",
      "3              Private\n",
      "4              Private\n",
      "Name: workclass, dtype: object\n"
     ]
    }
   ],
   "source": [
    "print(income[\"workclass\"].head(5))"
   ]
  },
  {
   "cell_type": "markdown",
   "metadata": {},
   "source": [
    "Como a feature é um dado ccategórico (expresso em texto), há a necessidade de convertê-lo em valor numérico:"
   ]
  },
  {
   "cell_type": "code",
   "execution_count": 215,
   "metadata": {},
   "outputs": [
    {
     "name": "stdout",
     "output_type": "stream",
     "text": [
      "0    6\n",
      "1    4\n",
      "2    4\n",
      "3    4\n",
      "4    4\n",
      "Name: workclass, dtype: int8\n"
     ]
    },
    {
     "name": "stderr",
     "output_type": "stream",
     "text": [
      "/Applications/anaconda3/lib/python3.6/site-packages/ipykernel_launcher.py:2: FutureWarning: Categorical.from_array is deprecated, use Categorical instead\n",
      "  \n"
     ]
    }
   ],
   "source": [
    "# Conversão de uma coluna de texto categórico para números\n",
    "col = pandas.Categorical.from_array(income[\"workclass\"])\n",
    "income[\"workclass\"] = col.codes\n",
    "print(income[\"workclass\"].head(5))"
   ]
  },
  {
   "cell_type": "markdown",
   "metadata": {
    "collapsed": true
   },
   "source": [
    "O valor 'Private' na coluna 'workclass' foi mapeado para o código numérico 4 (podemos verificar isso comparando os valores na coluna da classe de trabalho que costumava ter o rótulo 'Private' com os valores atuais para ver onde eles se alinham)."
   ]
  },
  {
   "cell_type": "code",
   "execution_count": 216,
   "metadata": {},
   "outputs": [
    {
     "name": "stdout",
     "output_type": "stream",
     "text": [
      "(22696, 15)\n",
      "(9864, 15)\n"
     ]
    }
   ],
   "source": [
    "# Enter your code here\n",
    "private_incomes = income[income[\"workclass\"] == 4]\n",
    "public_incomes = income[income[\"workclass\"] != 4]\n",
    "\n",
    "print(private_incomes.shape)\n",
    "print(public_incomes.shape)"
   ]
  },
  {
   "cell_type": "markdown",
   "metadata": {},
   "source": [
    "Executer a linha a baixo e verifique como o Pandas processa as sub-tabela"
   ]
  },
  {
   "cell_type": "code",
   "execution_count": 217,
   "metadata": {},
   "outputs": [
    {
     "data": {
      "text/plain": [
       "0        False\n",
       "1         True\n",
       "2         True\n",
       "3         True\n",
       "4         True\n",
       "5         True\n",
       "6        False\n",
       "7         True\n",
       "8         True\n",
       "9         True\n",
       "10       False\n",
       "11        True\n",
       "12        True\n",
       "13        True\n",
       "14        True\n",
       "15       False\n",
       "16        True\n",
       "17        True\n",
       "18       False\n",
       "19        True\n",
       "20        True\n",
       "21       False\n",
       "22        True\n",
       "23        True\n",
       "24       False\n",
       "25        True\n",
       "26       False\n",
       "27        True\n",
       "28        True\n",
       "29       False\n",
       "         ...  \n",
       "32530    False\n",
       "32531     True\n",
       "32532     True\n",
       "32533     True\n",
       "32534     True\n",
       "32535     True\n",
       "32536     True\n",
       "32537     True\n",
       "32538    False\n",
       "32539    False\n",
       "32540    False\n",
       "32541    False\n",
       "32542    False\n",
       "32543     True\n",
       "32544    False\n",
       "32545     True\n",
       "32546     True\n",
       "32547    False\n",
       "32548    False\n",
       "32549    False\n",
       "32550     True\n",
       "32551     True\n",
       "32552     True\n",
       "32553     True\n",
       "32554     True\n",
       "32555     True\n",
       "32556     True\n",
       "32557     True\n",
       "32558     True\n",
       "32559    False\n",
       "Name: workclass, Length: 32560, dtype: bool"
      ]
     },
     "execution_count": 217,
     "metadata": {},
     "output_type": "execute_result"
    }
   ],
   "source": [
    "income[\"workclass\"] == 4"
   ]
  },
  {
   "cell_type": "markdown",
   "metadata": {},
   "source": [
    "#### Instrução:\n",
    "\n",
    "Converte as outras variáveis categóricas de texto para numérica:\n",
    "- education\n",
    "- marital_status\n",
    "- occupation\n",
    "- relationship\n",
    "- race\n",
    "- sex\n",
    "- native_country\n",
    "- high_income"
   ]
  },
  {
   "cell_type": "code",
   "execution_count": null,
   "metadata": {
    "collapsed": true
   },
   "outputs": [],
   "source": [
    "# Conversão das variáveis categóricas de texto para numérica\n",
    "\n",
    "??????"
   ]
  },
  {
   "cell_type": "markdown",
   "metadata": {},
   "source": [
    "#### Transformando Variáveis categórica para o Padrão do SciKitLearn\n",
    "\n",
    "Uma maneira é transformar as variáveis para tipo 'dummy'.\n",
    "\n",
    "- Exemplo: \n",
    "\n",
    "     df = pd.get_dummies(df, columns=['type'])\n",
    "\n",
    "Os códigos categóricos são apenas valores inteiros para os itens exclusivos na categoria dada. Em contraste, get_dummies() retorna uma nova coluna para cada item exclusivo. O valor na coluna indica se a gravação possui ou não esse atributo.\n",
    "\n",
    "\n"
   ]
  },
  {
   "cell_type": "code",
   "execution_count": 224,
   "metadata": {},
   "outputs": [],
   "source": [
    "#Exemplo de Uso\n",
    "df = pandas.DataFrame({'cat': pandas.Categorical(['a', 'a', 'a', 'b', 'b', 'c', 'd', 'a'])})\n",
    "df2 = pandas.DataFrame({'cat': [1, 1, 1, 2, 2, 3]})"
   ]
  },
  {
   "cell_type": "code",
   "execution_count": 219,
   "metadata": {},
   "outputs": [
    {
     "name": "stdout",
     "output_type": "stream",
     "text": [
      "<class 'pandas.core.frame.DataFrame'>\n",
      "RangeIndex: 6 entries, 0 to 5\n",
      "Data columns (total 1 columns):\n",
      "cat    6 non-null category\n",
      "dtypes: category(1)\n",
      "memory usage: 190.0 bytes\n"
     ]
    }
   ],
   "source": [
    "df.info()"
   ]
  },
  {
   "cell_type": "code",
   "execution_count": 220,
   "metadata": {},
   "outputs": [
    {
     "name": "stdout",
     "output_type": "stream",
     "text": [
      "<class 'pandas.core.frame.DataFrame'>\n",
      "RangeIndex: 6 entries, 0 to 5\n",
      "Data columns (total 1 columns):\n",
      "cat    6 non-null int64\n",
      "dtypes: int64(1)\n",
      "memory usage: 128.0 bytes\n"
     ]
    }
   ],
   "source": [
    "df2.info()"
   ]
  },
  {
   "cell_type": "code",
   "execution_count": 225,
   "metadata": {},
   "outputs": [
    {
     "data": {
      "text/html": [
       "<div>\n",
       "<style>\n",
       "    .dataframe thead tr:only-child th {\n",
       "        text-align: right;\n",
       "    }\n",
       "\n",
       "    .dataframe thead th {\n",
       "        text-align: left;\n",
       "    }\n",
       "\n",
       "    .dataframe tbody tr th {\n",
       "        vertical-align: top;\n",
       "    }\n",
       "</style>\n",
       "<table border=\"1\" class=\"dataframe\">\n",
       "  <thead>\n",
       "    <tr style=\"text-align: right;\">\n",
       "      <th></th>\n",
       "      <th>cat_a</th>\n",
       "      <th>cat_b</th>\n",
       "      <th>cat_c</th>\n",
       "      <th>cat_d</th>\n",
       "    </tr>\n",
       "  </thead>\n",
       "  <tbody>\n",
       "    <tr>\n",
       "      <th>0</th>\n",
       "      <td>1</td>\n",
       "      <td>0</td>\n",
       "      <td>0</td>\n",
       "      <td>0</td>\n",
       "    </tr>\n",
       "    <tr>\n",
       "      <th>1</th>\n",
       "      <td>1</td>\n",
       "      <td>0</td>\n",
       "      <td>0</td>\n",
       "      <td>0</td>\n",
       "    </tr>\n",
       "    <tr>\n",
       "      <th>2</th>\n",
       "      <td>1</td>\n",
       "      <td>0</td>\n",
       "      <td>0</td>\n",
       "      <td>0</td>\n",
       "    </tr>\n",
       "    <tr>\n",
       "      <th>3</th>\n",
       "      <td>0</td>\n",
       "      <td>1</td>\n",
       "      <td>0</td>\n",
       "      <td>0</td>\n",
       "    </tr>\n",
       "    <tr>\n",
       "      <th>4</th>\n",
       "      <td>0</td>\n",
       "      <td>1</td>\n",
       "      <td>0</td>\n",
       "      <td>0</td>\n",
       "    </tr>\n",
       "    <tr>\n",
       "      <th>5</th>\n",
       "      <td>0</td>\n",
       "      <td>0</td>\n",
       "      <td>1</td>\n",
       "      <td>0</td>\n",
       "    </tr>\n",
       "    <tr>\n",
       "      <th>6</th>\n",
       "      <td>0</td>\n",
       "      <td>0</td>\n",
       "      <td>0</td>\n",
       "      <td>1</td>\n",
       "    </tr>\n",
       "    <tr>\n",
       "      <th>7</th>\n",
       "      <td>1</td>\n",
       "      <td>0</td>\n",
       "      <td>0</td>\n",
       "      <td>0</td>\n",
       "    </tr>\n",
       "  </tbody>\n",
       "</table>\n",
       "</div>"
      ],
      "text/plain": [
       "   cat_a  cat_b  cat_c  cat_d\n",
       "0      1      0      0      0\n",
       "1      1      0      0      0\n",
       "2      1      0      0      0\n",
       "3      0      1      0      0\n",
       "4      0      1      0      0\n",
       "5      0      0      1      0\n",
       "6      0      0      0      1\n",
       "7      1      0      0      0"
      ]
     },
     "execution_count": 225,
     "metadata": {},
     "output_type": "execute_result"
    }
   ],
   "source": [
    "pandas.get_dummies(df)"
   ]
  },
  {
   "cell_type": "markdown",
   "metadata": {},
   "source": [
    "#### Importação do conjunto de Teste\n",
    "- Importação do conjunto de teste\n",
    "- Inclusão dos títulos das colunas\n",
    "- Conversão das variáveis textuais"
   ]
  },
  {
   "cell_type": "code",
   "execution_count": 227,
   "metadata": {},
   "outputs": [
    {
     "name": "stdout",
     "output_type": "stream",
     "text": [
      "                                                                                                                                |1x3 Cross validator\n",
      "25  Private   226802  11th         7   Never-married       Machine-op-inspct  Own-child  Black  Male   0    0 40  United-States               <=50K.\n",
      "38  Private   89814   HS-grad      9   Married-civ-spouse  Farming-fishing    Husband    White  Male   0    0 50  United-States               <=50K.\n",
      "28  Local-gov 336951  Assoc-acdm   12  Married-civ-spouse  Protective-serv    Husband    White  Male   0    0 40  United-States                >50K.\n",
      "44  Private   160323  Some-college 10  Married-civ-spouse  Machine-op-inspct  Husband    Black  Male   7688 0 40  United-States                >50K.\n",
      "18  ?         103497  Some-college 10  Never-married       ?                  Own-child  White  Female 0    0 30  United-States               <=50K.\n"
     ]
    }
   ],
   "source": [
    "\n",
    "income_test = pandas.read_csv(\"http://archive.ics.uci.edu/ml/machine-learning-databases/adult/adult.test\")\n",
    "\n",
    "print(income_test.head(5))"
   ]
  },
  {
   "cell_type": "code",
   "execution_count": 228,
   "metadata": {},
   "outputs": [
    {
     "name": "stdout",
     "output_type": "stream",
     "text": [
      "   level_0     level_1  level_2        level_3  level_4              level_5  \\\n",
      "0       25     Private   226802           11th        7        Never-married   \n",
      "1       38     Private    89814        HS-grad        9   Married-civ-spouse   \n",
      "2       28   Local-gov   336951     Assoc-acdm       12   Married-civ-spouse   \n",
      "3       44     Private   160323   Some-college       10   Married-civ-spouse   \n",
      "4       18           ?   103497   Some-college       10        Never-married   \n",
      "\n",
      "              level_6     level_7 level_8  level_9  level_10  level_11  \\\n",
      "0   Machine-op-inspct   Own-child   Black     Male         0         0   \n",
      "1     Farming-fishing     Husband   White     Male         0         0   \n",
      "2     Protective-serv     Husband   White     Male         0         0   \n",
      "3   Machine-op-inspct     Husband   Black     Male      7688         0   \n",
      "4                   ?   Own-child   White   Female         0         0   \n",
      "\n",
      "   level_12        level_13 |1x3 Cross validator  \n",
      "0        40   United-States               <=50K.  \n",
      "1        50   United-States               <=50K.  \n",
      "2        40   United-States                >50K.  \n",
      "3        40   United-States                >50K.  \n",
      "4        30   United-States               <=50K.  \n"
     ]
    }
   ],
   "source": [
    "income_test = income_test.reset_index()\n",
    "print(income_test.head(5))"
   ]
  },
  {
   "cell_type": "code",
   "execution_count": null,
   "metadata": {
    "collapsed": true
   },
   "outputs": [],
   "source": [
    "# Inclusão dos títulos das colunas\n",
    "????????\n"
   ]
  },
  {
   "cell_type": "code",
   "execution_count": null,
   "metadata": {
    "collapsed": true
   },
   "outputs": [],
   "source": []
  },
  {
   "cell_type": "code",
   "execution_count": null,
   "metadata": {
    "collapsed": true
   },
   "outputs": [],
   "source": [
    "# Conversão das variáveis categóricas textuais para munéricas\n",
    "\n",
    "????????\n"
   ]
  },
  {
   "cell_type": "markdown",
   "metadata": {},
   "source": [
    "### Usando o SciKitLearn\n",
    "\n",
    "Podemos usar o pacote scikit-learn para se treinar uma árvore de decisão. A interface é muito semelhante a outros algoritmos de classificação.\n",
    "- Utiliza-se a classe DecisionTreeClassifier para problemas de classificação\n",
    "- Utiliza-se a classe DecisionTreeRegressor para problemas de regressão. \n",
    "- O pacote sklearn.tree inclui ambas as classes.\n",
    "\n",
    "\n",
    "Neste caso, como queremos um resultado binário, usaremos um classificador.\n",
    "\n",
    "O primeiro passo é treinar o classificador nos dados. \n",
    "- Usaremos o método de ajuste em um classificador para fazer isso."
   ]
  },
  {
   "cell_type": "markdown",
   "metadata": {},
   "source": [
    "DecisionTreeClassifier(class_weight=None, criterion='gini', max_depth=None,\n",
    "            max_features=None, max_leaf_nodes=None, min_samples_leaf=1,\n",
    "            min_samples_split=2, min_weight_fraction_leaf=0.0,\n",
    "            presort=False, random_state=None, splitter='best')"
   ]
  },
  {
   "cell_type": "code",
   "execution_count": null,
   "metadata": {},
   "outputs": [],
   "source": [
    "from sklearn.tree import DecisionTreeClassifier\n",
    "\n",
    "# A list of columns to train with\n",
    "# We've already converted all columns to numeric\n",
    "features_train = income[[\"age\", \"workclass\",\"education_num\", \"marital_status\", \"occupation\", \"relationship\", \"race\", \"sex\", \"hours_per_week\", \"native_country\"]]\n",
    "target = income[\"high_income\"]\n"
   ]
  },
  {
   "cell_type": "code",
   "execution_count": null,
   "metadata": {
    "collapsed": true
   },
   "outputs": [],
   "source": [
    "features_train.head()"
   ]
  },
  {
   "cell_type": "code",
   "execution_count": null,
   "metadata": {},
   "outputs": [],
   "source": [
    "target.head()"
   ]
  },
  {
   "cell_type": "code",
   "execution_count": null,
   "metadata": {},
   "outputs": [],
   "source": [
    "# Instantiate the classifier\n",
    "# Set random_state to 1 to make sure the results are consistent\n",
    "clf = DecisionTreeClassifier(random_state=1)\n",
    "\n",
    "# We've already loaded the variable \"income,\" which contains all of the income data\n",
    "clf.fit(features_train, target)"
   ]
  },
  {
   "cell_type": "markdown",
   "metadata": {},
   "source": [
    "#### Testando a precisão do modelo\n",
    "\n",
    "Agora que nos treinamos o modelo, podemos fazer previsões. \n",
    "\n",
    "- É preciso dividir os dados em conjuntos de treinamento e testes primeiro. \n",
    "- Se não o fizermos, estaremos fazendo previsões sobre os mesmos dados com os quais treinamos nosso algoritmo.\n",
    "- Isso leva a 'overfit', e fará com que nosso erro pareça mais baixo do que é.\n",
    "\n",
    "Precisamos, então, dividir nossos dados em conjuntos de treinamento e testes primeiro. "
   ]
  },
  {
   "cell_type": "code",
   "execution_count": null,
   "metadata": {
    "collapsed": true
   },
   "outputs": [],
   "source": [
    "# Exemplo de predição\n",
    "# utilize o conjunto de tests para fazer as predições\n",
    "\n",
    "from ?????\n",
    "????\n",
    "\n",
    "predictions = clf.predict(features_test)"
   ]
  },
  {
   "cell_type": "code",
   "execution_count": null,
   "metadata": {
    "collapsed": true
   },
   "outputs": [],
   "source": [
    "from sklearn import metrics\n",
    "ypred = predictions\n",
    "ytest = target\n",
    "print(metrics.classification_report(ypred, ytest))"
   ]
  },
  {
   "cell_type": "markdown",
   "metadata": {},
   "source": [
    "#### Exercício: Utilize a matriz de Confusão para analisar a qualidade da classificação."
   ]
  },
  {
   "cell_type": "code",
   "execution_count": null,
   "metadata": {
    "collapsed": true
   },
   "outputs": [],
   "source": [
    "# Matriz de confusão do classificador\n",
    "from sklearn.metrics import confusion_matrix\n",
    "\n",
    "???"
   ]
  },
  {
   "cell_type": "markdown",
   "metadata": {},
   "source": [
    "#### Analise a influência de parâmetros sobre desempenho de árvores de decisão\n",
    "- parâmetro \"tamanho do conjunto de treino\"\n",
    "- parâmetro \"número de níveis da árvore."
   ]
  },
  {
   "cell_type": "code",
   "execution_count": null,
   "metadata": {
    "collapsed": true
   },
   "outputs": [],
   "source": [
    "# Decision trees model - parametric performance\n",
    "\n",
    "#clf = DecisionTreeClassifier(random_state=1)\n",
    "#clf = DecisionTreeClassifier(min_samples_split=13, random_state=1)\n",
    "#clf = DecisionTreeClassifier(random_state=1, min_samples_split=13, max_depth=7)\n",
    "\n",
    "clf = DecisionTreeClassifier(random_state=1, min_samples_split=100, max_depth=2)\n",
    "\n",
    "clf.fit(features_train, target)\n",
    "predictions = clf.predict(features_test)\n",
    "\n",
    "ypred = predictions\n",
    "ytest = target\n",
    "print(metrics.classification_report(ypred, ytest))"
   ]
  },
  {
   "cell_type": "markdown",
   "metadata": {},
   "source": [
    "### Exercício 3: Random Florest\n",
    "- Utilize a técnica de Random Florest para classificar a variável \"high_income\" do exercíco anterior."
   ]
  },
  {
   "cell_type": "code",
   "execution_count": null,
   "metadata": {
    "collapsed": true
   },
   "outputs": [],
   "source": [
    "# Resolução do problema\n"
   ]
  }
 ],
 "metadata": {
  "kernelspec": {
   "display_name": "Python 3",
   "language": "python",
   "name": "python3"
  },
  "language_info": {
   "codemirror_mode": {
    "name": "ipython",
    "version": 3
   },
   "file_extension": ".py",
   "mimetype": "text/x-python",
   "name": "python",
   "nbconvert_exporter": "python",
   "pygments_lexer": "ipython3",
   "version": "3.6.2"
  }
 },
 "nbformat": 4,
 "nbformat_minor": 2
}
